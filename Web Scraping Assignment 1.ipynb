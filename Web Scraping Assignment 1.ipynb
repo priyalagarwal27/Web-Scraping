{
 "cells": [
  {
   "cell_type": "markdown",
   "metadata": {},
   "source": [
    "# WEB SCRAPING ASSIGNMENT - 1"
   ]
  },
  {
   "cell_type": "code",
   "execution_count": 62,
   "metadata": {},
   "outputs": [],
   "source": [
    "# Importing libraries\n",
    "from bs4 import BeautifulSoup\n",
    "import requests\n",
    "import selenium\n",
    "from pprint import pprint\n",
    "import pandas as pd\n",
    "from selenium import webdriver\n",
    "import time"
   ]
  },
  {
   "cell_type": "code",
   "execution_count": 63,
   "metadata": {},
   "outputs": [],
   "source": [
    "driver=webdriver.Chrome(r\"C:\\Users\\home\\chromedriver.exe\")"
   ]
  },
  {
   "cell_type": "markdown",
   "metadata": {},
   "source": [
    "### Q1. Write a python program to display all the header tags from \"https://en.wikipedia.org/wiki/Main_Page\" ."
   ]
  },
  {
   "cell_type": "code",
   "execution_count": 154,
   "metadata": {},
   "outputs": [],
   "source": [
    "page=requests.get('https://en.wikipedia.org/wiki/Main_Page')"
   ]
  },
  {
   "cell_type": "code",
   "execution_count": 156,
   "metadata": {},
   "outputs": [],
   "source": [
    "soup=BeautifulSoup(page.text,'html.parser')"
   ]
  },
  {
   "cell_type": "code",
   "execution_count": 65,
   "metadata": {},
   "outputs": [],
   "source": [
    "#Displaying content in a good manner\n",
    "\n",
    "#print(soup.prettify())"
   ]
  },
  {
   "cell_type": "code",
   "execution_count": 8,
   "metadata": {
    "scrolled": true
   },
   "outputs": [
    {
     "name": "stdout",
     "output_type": "stream",
     "text": [
      "Displaying all the header tags :\n",
      "\n",
      "<h1 class=\"firstHeading\" id=\"firstHeading\" lang=\"en\">Main Page</h1>\n",
      "\n",
      "<h2 class=\"mp-h2\" id=\"mp-tfa-h2\"><span id=\"From_today.27s_featured_article\"></span><span class=\"mw-headline\" id=\"From_today's_featured_article\">From today's featured article</span></h2>\n",
      "\n",
      "<h2 class=\"mp-h2\" id=\"mp-dyk-h2\"><span class=\"mw-headline\" id=\"Did_you_know_...\">Did you know ...</span></h2>\n",
      "\n",
      "<h2 class=\"mp-h2\" id=\"mp-itn-h2\"><span class=\"mw-headline\" id=\"In_the_news\">In the news</span></h2>\n",
      "\n",
      "<h2 class=\"mp-h2\" id=\"mp-otd-h2\"><span class=\"mw-headline\" id=\"On_this_day\">On this day</span></h2>\n",
      "\n",
      "<h2 class=\"mp-h2\" id=\"mp-tfp-h2\"><span id=\"Today.27s_featured_picture\"></span><span class=\"mw-headline\" id=\"Today's_featured_picture\">Today's featured picture</span></h2>\n",
      "\n",
      "<h2 class=\"mp-h2\" id=\"mp-other\"><span class=\"mw-headline\" id=\"Other_areas_of_Wikipedia\">Other areas of Wikipedia</span></h2>\n",
      "\n",
      "<h2 class=\"mp-h2\" id=\"mp-sister\"><span id=\"Wikipedia.27s_sister_projects\"></span><span class=\"mw-headline\" id=\"Wikipedia's_sister_projects\">Wikipedia's sister projects</span></h2>\n",
      "\n",
      "<h2 class=\"mp-h2\" id=\"mp-lang\"><span class=\"mw-headline\" id=\"Wikipedia_languages\">Wikipedia languages</span></h2>\n",
      "\n",
      "<h2>Navigation menu</h2>\n",
      "\n",
      "<h3 id=\"p-personal-label\">\n",
      "<span>Personal tools</span>\n",
      "</h3>\n",
      "\n",
      "<h3 id=\"p-namespaces-label\">\n",
      "<span>Namespaces</span>\n",
      "</h3>\n",
      "\n",
      "<h3 id=\"p-variants-label\">\n",
      "<span>Variants</span>\n",
      "</h3>\n",
      "\n",
      "<h3 id=\"p-views-label\">\n",
      "<span>Views</span>\n",
      "</h3>\n",
      "\n",
      "<h3 id=\"p-cactions-label\">\n",
      "<span>More</span>\n",
      "</h3>\n",
      "\n",
      "<h3>\n",
      "<label for=\"searchInput\">Search</label>\n",
      "</h3>\n",
      "\n",
      "<h3 id=\"p-navigation-label\">\n",
      "<span>Navigation</span>\n",
      "</h3>\n",
      "\n",
      "<h3 id=\"p-interaction-label\">\n",
      "<span>Contribute</span>\n",
      "</h3>\n",
      "\n",
      "<h3 id=\"p-tb-label\">\n",
      "<span>Tools</span>\n",
      "</h3>\n",
      "\n",
      "<h3 id=\"p-coll-print_export-label\">\n",
      "<span>Print/export</span>\n",
      "</h3>\n",
      "\n",
      "<h3 id=\"p-wikibase-otherprojects-label\">\n",
      "<span>In other projects</span>\n",
      "</h3>\n",
      "\n",
      "<h3 id=\"p-lang-label\">\n",
      "<span>Languages</span>\n",
      "</h3>\n"
     ]
    }
   ],
   "source": [
    "#Displaying all the header tags\n",
    "headers = soup.find_all(['h1', 'h2','h3','h4','h5','h6'])\n",
    "print('Displaying all the header tags :', *headers, sep='\\n\\n')"
   ]
  },
  {
   "cell_type": "markdown",
   "metadata": {},
   "source": [
    "### Q2. Write a python program to display IMDB's Top rated 100 movies' data."
   ]
  },
  {
   "cell_type": "code",
   "execution_count": 355,
   "metadata": {},
   "outputs": [],
   "source": [
    "page = requests.get(\"https://www.imdb.com/list/ls091520106/?sort=list_order,asc&st_dt=&mode=simple&page=1&ref_=ttls_vw_smp\")"
   ]
  },
  {
   "cell_type": "code",
   "execution_count": 357,
   "metadata": {},
   "outputs": [],
   "source": [
    "soup=BeautifulSoup(page.text,'html.parser')"
   ]
  },
  {
   "cell_type": "markdown",
   "metadata": {},
   "source": [
    "#### Title"
   ]
  },
  {
   "cell_type": "code",
   "execution_count": 359,
   "metadata": {},
   "outputs": [
    {
     "data": {
      "text/plain": [
       "['The Shawshank Redemption',\n",
       " 'The Godfather',\n",
       " 'The Godfather: Part II',\n",
       " 'The Dark Knight',\n",
       " '12 Angry Men',\n",
       " \"Schindler's List\",\n",
       " 'The Lord of the Rings: The Return of the King',\n",
       " 'Pulp Fiction',\n",
       " 'Il buono, il brutto, il cattivo',\n",
       " 'Fight Club']"
      ]
     },
     "execution_count": 359,
     "metadata": {},
     "output_type": "execute_result"
    }
   ],
   "source": [
    "names=[]\n",
    "for i in soup.find_all(\"span\", class_=\"lister-item-header\"):\n",
    "    names.append(i.find('a',href=True).get_text())\n",
    "names[:10]"
   ]
  },
  {
   "cell_type": "markdown",
   "metadata": {},
   "source": [
    "#### Year"
   ]
  },
  {
   "cell_type": "code",
   "execution_count": 362,
   "metadata": {},
   "outputs": [
    {
     "data": {
      "text/plain": [
       "['1994',\n",
       " '1972',\n",
       " '1974',\n",
       " '2008',\n",
       " '1957',\n",
       " '1993',\n",
       " '2003',\n",
       " '1994',\n",
       " '1966',\n",
       " '1999']"
      ]
     },
     "execution_count": 362,
     "metadata": {},
     "output_type": "execute_result"
    }
   ],
   "source": [
    "Release_year=[]\n",
    "year=soup.find_all(\"span\",class_=\"lister-item-year text-muted unbold\")\n",
    "for i in year:\n",
    "   Release_year.append(i.get_text().replace(\")\",\"\").replace(\"(\",\"\"))\n",
    "Release_year[0:10]\n",
    "    "
   ]
  },
  {
   "cell_type": "markdown",
   "metadata": {},
   "source": [
    "#### Rating"
   ]
  },
  {
   "cell_type": "code",
   "execution_count": 360,
   "metadata": {},
   "outputs": [
    {
     "data": {
      "text/plain": [
       "['9.2', '9', '9', '9', '8.9', '8.9', '8.9', '8.8', '8.8']"
      ]
     },
     "execution_count": 360,
     "metadata": {},
     "output_type": "execute_result"
    }
   ],
   "source": [
    "Rating=[]\n",
    "rating=soup.find_all(\"div\",class_='col-imdb-rating')\n",
    "for i in rating:\n",
    "    Rating.append(i.get_text().strip().replace(\"\\n\",\"\"))\n",
    "Rating[1:10]"
   ]
  },
  {
   "cell_type": "code",
   "execution_count": 363,
   "metadata": {},
   "outputs": [
    {
     "name": "stdout",
     "output_type": "stream",
     "text": [
      "0 100 100\n"
     ]
    }
   ],
   "source": [
    "print(len(Movie_name),len(Release_year),len(Rating))"
   ]
  },
  {
   "cell_type": "code",
   "execution_count": 364,
   "metadata": {},
   "outputs": [],
   "source": [
    "#DataFrame \n",
    "import pandas as pd\n",
    "movies=pd.DataFrame({})\n",
    "movies[\"Titles\"]=names[0:100]\n",
    "movies[\"Year\"]=Release_year\n",
    "movies[\"Rating\"]=Rating"
   ]
  },
  {
   "cell_type": "code",
   "execution_count": 365,
   "metadata": {
    "scrolled": true
   },
   "outputs": [
    {
     "data": {
      "text/html": [
       "<div>\n",
       "<style scoped>\n",
       "    .dataframe tbody tr th:only-of-type {\n",
       "        vertical-align: middle;\n",
       "    }\n",
       "\n",
       "    .dataframe tbody tr th {\n",
       "        vertical-align: top;\n",
       "    }\n",
       "\n",
       "    .dataframe thead th {\n",
       "        text-align: right;\n",
       "    }\n",
       "</style>\n",
       "<table border=\"1\" class=\"dataframe\">\n",
       "  <thead>\n",
       "    <tr style=\"text-align: right;\">\n",
       "      <th></th>\n",
       "      <th>Titles</th>\n",
       "      <th>Year</th>\n",
       "      <th>Rating</th>\n",
       "    </tr>\n",
       "  </thead>\n",
       "  <tbody>\n",
       "    <tr>\n",
       "      <th>0</th>\n",
       "      <td>The Shawshank Redemption</td>\n",
       "      <td>1994</td>\n",
       "      <td>9.3</td>\n",
       "    </tr>\n",
       "    <tr>\n",
       "      <th>1</th>\n",
       "      <td>The Godfather</td>\n",
       "      <td>1972</td>\n",
       "      <td>9.2</td>\n",
       "    </tr>\n",
       "    <tr>\n",
       "      <th>2</th>\n",
       "      <td>The Godfather: Part II</td>\n",
       "      <td>1974</td>\n",
       "      <td>9</td>\n",
       "    </tr>\n",
       "    <tr>\n",
       "      <th>3</th>\n",
       "      <td>The Dark Knight</td>\n",
       "      <td>2008</td>\n",
       "      <td>9</td>\n",
       "    </tr>\n",
       "    <tr>\n",
       "      <th>4</th>\n",
       "      <td>12 Angry Men</td>\n",
       "      <td>1957</td>\n",
       "      <td>9</td>\n",
       "    </tr>\n",
       "  </tbody>\n",
       "</table>\n",
       "</div>"
      ],
      "text/plain": [
       "                     Titles  Year Rating\n",
       "0  The Shawshank Redemption  1994    9.3\n",
       "1             The Godfather  1972    9.2\n",
       "2    The Godfather: Part II  1974      9\n",
       "3           The Dark Knight  2008      9\n",
       "4              12 Angry Men  1957      9"
      ]
     },
     "execution_count": 365,
     "metadata": {},
     "output_type": "execute_result"
    }
   ],
   "source": [
    "movies.head()"
   ]
  },
  {
   "cell_type": "code",
   "execution_count": 366,
   "metadata": {},
   "outputs": [],
   "source": [
    "#Saving in csv format\n",
    "import pandas as pd\n",
    "df=movies\n",
    "df.to_csv('C:/Users/home/Desktop/Internship Projects/fliprobo/movies.csv',index = False)"
   ]
  },
  {
   "cell_type": "markdown",
   "metadata": {},
   "source": [
    "### Q3. Write a python program to display IMDB's Top rated Indian 100 movies' data."
   ]
  },
  {
   "cell_type": "code",
   "execution_count": 340,
   "metadata": {},
   "outputs": [],
   "source": [
    "page = requests.get(\"https://www.imdb.com/india/top-rated-indian-movies/\")"
   ]
  },
  {
   "cell_type": "code",
   "execution_count": 66,
   "metadata": {
    "scrolled": true
   },
   "outputs": [],
   "source": [
    "#page.content"
   ]
  },
  {
   "cell_type": "code",
   "execution_count": 342,
   "metadata": {},
   "outputs": [],
   "source": [
    "soup=BeautifulSoup(page.text,'html.parser')"
   ]
  },
  {
   "cell_type": "markdown",
   "metadata": {},
   "source": [
    "#### Title"
   ]
  },
  {
   "cell_type": "code",
   "execution_count": 345,
   "metadata": {},
   "outputs": [
    {
     "data": {
      "text/plain": [
       "['Pather Panchali',\n",
       " 'Gol Maal',\n",
       " 'Ratsasan',\n",
       " 'Nayakan',\n",
       " 'Anbe Sivam',\n",
       " 'Apur Sansar',\n",
       " 'Kireedam',\n",
       " 'Natsamrat',\n",
       " 'Pariyerum Perumal',\n",
       " 'Black Friday']"
      ]
     },
     "execution_count": 345,
     "metadata": {},
     "output_type": "execute_result"
    }
   ],
   "source": [
    "names=[]\n",
    "for i in soup.find_all(\"td\", class_=\"titleColumn\"):\n",
    "    names.append(i.find('a',href=True).get_text())\n",
    "names[:10]"
   ]
  },
  {
   "cell_type": "markdown",
   "metadata": {},
   "source": [
    "#### Year"
   ]
  },
  {
   "cell_type": "code",
   "execution_count": 346,
   "metadata": {},
   "outputs": [
    {
     "data": {
      "text/plain": [
       "['1955',\n",
       " '1979',\n",
       " '2018',\n",
       " '1987',\n",
       " '2003',\n",
       " '1959',\n",
       " '1989',\n",
       " '2016',\n",
       " '2018',\n",
       " '2004']"
      ]
     },
     "execution_count": 346,
     "metadata": {},
     "output_type": "execute_result"
    }
   ],
   "source": [
    "Release_year=[]\n",
    "year=soup.find_all(\"span\",class_=\"secondaryInfo\")\n",
    "for i in year:\n",
    "   Release_year.append(i.get_text().replace(\")\",\"\").replace(\"(\",\"\"))\n",
    "Release_year[0:10]\n",
    "    "
   ]
  },
  {
   "cell_type": "markdown",
   "metadata": {},
   "source": [
    "#### Rating"
   ]
  },
  {
   "cell_type": "code",
   "execution_count": 347,
   "metadata": {},
   "outputs": [
    {
     "data": {
      "text/plain": [
       "['8.5', '8.5', '8.5', '8.5', '8.4', '8.4', '8.4', '8.4', '8.4']"
      ]
     },
     "execution_count": 347,
     "metadata": {},
     "output_type": "execute_result"
    }
   ],
   "source": [
    "Rating=[]\n",
    "rating=soup.find_all(\"td\",class_='ratingColumn imdbRating')\n",
    "for i in rating:\n",
    "    Rating.append(i.get_text().strip().replace(\"\\n\",\"\"))\n",
    "Rating[1:10]"
   ]
  },
  {
   "cell_type": "code",
   "execution_count": 348,
   "metadata": {},
   "outputs": [
    {
     "name": "stdout",
     "output_type": "stream",
     "text": [
      "250 250 250\n"
     ]
    }
   ],
   "source": [
    "print(len(names),len(Release_year),len(Rating))"
   ]
  },
  {
   "cell_type": "code",
   "execution_count": 349,
   "metadata": {},
   "outputs": [],
   "source": [
    "#Dataframe\n",
    "import pandas as pd\n",
    "movie=pd.DataFrame({})[0:100]\n",
    "movie[\"Titles\"]=names\n",
    "movie[\"Year\"]=Release_year\n",
    "movie[\"Rating\"]=Rating"
   ]
  },
  {
   "cell_type": "code",
   "execution_count": 350,
   "metadata": {
    "scrolled": true
   },
   "outputs": [
    {
     "data": {
      "text/html": [
       "<div>\n",
       "<style scoped>\n",
       "    .dataframe tbody tr th:only-of-type {\n",
       "        vertical-align: middle;\n",
       "    }\n",
       "\n",
       "    .dataframe tbody tr th {\n",
       "        vertical-align: top;\n",
       "    }\n",
       "\n",
       "    .dataframe thead th {\n",
       "        text-align: right;\n",
       "    }\n",
       "</style>\n",
       "<table border=\"1\" class=\"dataframe\">\n",
       "  <thead>\n",
       "    <tr style=\"text-align: right;\">\n",
       "      <th></th>\n",
       "      <th>Titles</th>\n",
       "      <th>Year</th>\n",
       "      <th>Rating</th>\n",
       "    </tr>\n",
       "  </thead>\n",
       "  <tbody>\n",
       "    <tr>\n",
       "      <th>0</th>\n",
       "      <td>Pather Panchali</td>\n",
       "      <td>1955</td>\n",
       "      <td>8.5</td>\n",
       "    </tr>\n",
       "    <tr>\n",
       "      <th>1</th>\n",
       "      <td>Gol Maal</td>\n",
       "      <td>1979</td>\n",
       "      <td>8.5</td>\n",
       "    </tr>\n",
       "    <tr>\n",
       "      <th>2</th>\n",
       "      <td>Ratsasan</td>\n",
       "      <td>2018</td>\n",
       "      <td>8.5</td>\n",
       "    </tr>\n",
       "    <tr>\n",
       "      <th>3</th>\n",
       "      <td>Nayakan</td>\n",
       "      <td>1987</td>\n",
       "      <td>8.5</td>\n",
       "    </tr>\n",
       "    <tr>\n",
       "      <th>4</th>\n",
       "      <td>Anbe Sivam</td>\n",
       "      <td>2003</td>\n",
       "      <td>8.5</td>\n",
       "    </tr>\n",
       "    <tr>\n",
       "      <th>5</th>\n",
       "      <td>Apur Sansar</td>\n",
       "      <td>1959</td>\n",
       "      <td>8.4</td>\n",
       "    </tr>\n",
       "    <tr>\n",
       "      <th>6</th>\n",
       "      <td>Kireedam</td>\n",
       "      <td>1989</td>\n",
       "      <td>8.4</td>\n",
       "    </tr>\n",
       "    <tr>\n",
       "      <th>7</th>\n",
       "      <td>Natsamrat</td>\n",
       "      <td>2016</td>\n",
       "      <td>8.4</td>\n",
       "    </tr>\n",
       "    <tr>\n",
       "      <th>8</th>\n",
       "      <td>Pariyerum Perumal</td>\n",
       "      <td>2018</td>\n",
       "      <td>8.4</td>\n",
       "    </tr>\n",
       "    <tr>\n",
       "      <th>9</th>\n",
       "      <td>Black Friday</td>\n",
       "      <td>2004</td>\n",
       "      <td>8.4</td>\n",
       "    </tr>\n",
       "  </tbody>\n",
       "</table>\n",
       "</div>"
      ],
      "text/plain": [
       "              Titles  Year Rating\n",
       "0    Pather Panchali  1955    8.5\n",
       "1           Gol Maal  1979    8.5\n",
       "2           Ratsasan  2018    8.5\n",
       "3            Nayakan  1987    8.5\n",
       "4         Anbe Sivam  2003    8.5\n",
       "5        Apur Sansar  1959    8.4\n",
       "6           Kireedam  1989    8.4\n",
       "7          Natsamrat  2016    8.4\n",
       "8  Pariyerum Perumal  2018    8.4\n",
       "9       Black Friday  2004    8.4"
      ]
     },
     "execution_count": 350,
     "metadata": {},
     "output_type": "execute_result"
    }
   ],
   "source": [
    "movie.head(10)"
   ]
  },
  {
   "cell_type": "code",
   "execution_count": 351,
   "metadata": {},
   "outputs": [],
   "source": [
    "#Saving in csv format\n",
    "df=movie\n",
    "df.to_csv('C:/Users/home/Desktop/Internship Projects/fliprobo/indian movie.csv',index = False)"
   ]
  },
  {
   "cell_type": "markdown",
   "metadata": {},
   "source": [
    "### Q4. Write a python program to scrape book name,author name,genre and book review of any 5 books from www.bookpage.com'."
   ]
  },
  {
   "cell_type": "code",
   "execution_count": 381,
   "metadata": {},
   "outputs": [],
   "source": [
    "page = requests.get(\"https://bookpage.com/reviews\")"
   ]
  },
  {
   "cell_type": "code",
   "execution_count": 382,
   "metadata": {},
   "outputs": [],
   "source": [
    "soup = BeautifulSoup(page.text,'html.parser')"
   ]
  },
  {
   "cell_type": "markdown",
   "metadata": {},
   "source": [
    "#### Book Name"
   ]
  },
  {
   "cell_type": "code",
   "execution_count": 377,
   "metadata": {},
   "outputs": [
    {
     "data": {
      "text/plain": [
       "['Hades, Argentina',\n",
       " 'Outlawed',\n",
       " 'Outside, Inside',\n",
       " 'The Push',\n",
       " 'I Dream of Popo',\n",
       " '  Featherhood',\n",
       " 'The Sea Gate',\n",
       " 'A Crooked Tree',\n",
       " 'Slash and Burn',\n",
       " 'The Heiress']"
      ]
     },
     "execution_count": 377,
     "metadata": {},
     "output_type": "execute_result"
    }
   ],
   "source": [
    "names=[]\n",
    "for i in soup.find_all(\"h4\", class_=\"italic\"):\n",
    "    names.append(i.find('a',href=True).get_text().replace('★',''))\n",
    "names[:10]"
   ]
  },
  {
   "cell_type": "markdown",
   "metadata": {},
   "source": [
    "#### Author Name"
   ]
  },
  {
   "cell_type": "code",
   "execution_count": 375,
   "metadata": {},
   "outputs": [
    {
     "data": {
      "text/plain": [
       "['Daniel Loedel',\n",
       " 'Anna North',\n",
       " 'LeUyen Pham',\n",
       " 'Ashley Audrain',\n",
       " 'Livia Blackburne, Julia Kuo',\n",
       " 'Charlie Gilmour',\n",
       " 'Jane Johnson',\n",
       " 'Una Mannion',\n",
       " 'Claudia Hernández, Julia Sanches',\n",
       " 'Molly Greeley']"
      ]
     },
     "execution_count": 375,
     "metadata": {},
     "output_type": "execute_result"
    }
   ],
   "source": [
    "Author=[]\n",
    "author=soup.find_all(\"p\",class_='sans bold')\n",
    "for i in author:\n",
    "    Author.append(i.get_text().strip().replace(\"\\n\",\"\"))\n",
    "Author[:10]"
   ]
  },
  {
   "cell_type": "markdown",
   "metadata": {},
   "source": [
    "#### Genre"
   ]
  },
  {
   "cell_type": "code",
   "execution_count": 384,
   "metadata": {},
   "outputs": [
    {
     "data": {
      "text/plain": [
       "['Fiction',\n",
       " 'Fiction',\n",
       " \"Children's\",\n",
       " 'Fiction',\n",
       " \"Children's\",\n",
       " 'Nonfiction',\n",
       " 'Fiction',\n",
       " 'Fiction',\n",
       " 'Fiction',\n",
       " 'Fiction']"
      ]
     },
     "execution_count": 384,
     "metadata": {},
     "output_type": "execute_result"
    }
   ],
   "source": [
    "Genre=[]\n",
    "genre=soup.find_all(\"p\",class_='genre-links hidden-phone')\n",
    "for i in genre:\n",
    "    Genre.append(i.find('a',href=True).get_text())\n",
    "Genre[:10]"
   ]
  },
  {
   "cell_type": "markdown",
   "metadata": {},
   "source": [
    "#### Review"
   ]
  },
  {
   "cell_type": "code",
   "execution_count": 385,
   "metadata": {},
   "outputs": [
    {
     "data": {
      "text/plain": [
       "['As Tomás reenters the world of Argentina’s dirty war, time blurs, and the surreal blends with reality. As he relives trauma and torture, readers experience it with him, seeing a slice of history that is rarely talked about and feeling immersed in the ways that love, guilt and regret drive so many...',\n",
       " 'This ain’t no Louis L’Amour tale of the Wild West. Outlawed, the third novel by Anna North, is a gender-bending, genre-hopping yarn that’s part frontier novel, part Handmaid’s Tale and all ripsnorting fun.',\n",
       " 'LeUyen Pham’s Outside, Inside addresses the subject of the COVID-19 pandemic for young readers with sensitivity and compassion.',\n",
       " 'It’s easy to think of intimate, single-POV novels as somewhat simple narrative exercises, but Ashley Audrain’s gripping debut is proof that this is an illusion. In the hands of the right storyteller, even the most compact novels can be works of great complexity.',\n",
       " 'A young girl stays in touch with her beloved grandmother, Popo, when her family moves to the United States from Taiwan in this exuberant picture book.',\n",
       " 'In folklore, magpies are said to bring bad luck, but that certainly wasn’t the case for Charlie Gilmour. An abandoned baby bird helped this young British author finally exorcise the long shadow cast by his biological father, whoabandoned him as an infant.',\n",
       " 'Jane Johnson’s latest novel, The Sea Gate, is beautiful story of love, loss and pain, bouncing between wartime memories of the 1940s and present day.',\n",
       " 'As 15-year-old Libby Gallagher ponders several dark moments in rock ’n’ roll history, she muses, “It all said to me that chaotic and dark forces were spinning around us. One foot wrong, and you’d be pulled into the vortex.” Unfortunately, a multitude of missteps have...',\n",
       " 'Slash and Burn is an ember of a novel. Originally published in Spanish, this restrained narrative about a mother’s sacrifice surges with hot undercurrents of danger and memory.',\n",
       " 'Enter Molly Greeley’s novel The Heiress, an entertaining elaboration to satisfy generations of readers who have wondered and theorized about Anne de Bourgh. In perfectly Austenesque style, Greeley reveals the backstory of the Rosings Park heiress and just what made her so sickly, so...']"
      ]
     },
     "execution_count": 385,
     "metadata": {},
     "output_type": "execute_result"
    }
   ],
   "source": [
    "Review=[]\n",
    "review=soup.find_all(\"p\",class_='excerpt')\n",
    "for i in review:\n",
    "    Review.append(i.get_text().strip().replace(\"\\n\",\"\"))\n",
    "Review[:10]"
   ]
  },
  {
   "cell_type": "code",
   "execution_count": 386,
   "metadata": {},
   "outputs": [
    {
     "name": "stdout",
     "output_type": "stream",
     "text": [
      "10 10 10 10\n"
     ]
    }
   ],
   "source": [
    "print(len(names),len(Author),len(Genre),len(Review))"
   ]
  },
  {
   "cell_type": "code",
   "execution_count": 387,
   "metadata": {},
   "outputs": [],
   "source": [
    "import pandas as pd\n",
    "book=pd.DataFrame({})\n",
    "book[\"Title\"]=names\n",
    "book[\"Author Name\"]=Author\n",
    "book[\"Genre\"]=Genre\n",
    "book[\"Book Review\"]=Review"
   ]
  },
  {
   "cell_type": "code",
   "execution_count": 388,
   "metadata": {},
   "outputs": [
    {
     "data": {
      "text/html": [
       "<div>\n",
       "<style scoped>\n",
       "    .dataframe tbody tr th:only-of-type {\n",
       "        vertical-align: middle;\n",
       "    }\n",
       "\n",
       "    .dataframe tbody tr th {\n",
       "        vertical-align: top;\n",
       "    }\n",
       "\n",
       "    .dataframe thead th {\n",
       "        text-align: right;\n",
       "    }\n",
       "</style>\n",
       "<table border=\"1\" class=\"dataframe\">\n",
       "  <thead>\n",
       "    <tr style=\"text-align: right;\">\n",
       "      <th></th>\n",
       "      <th>Title</th>\n",
       "      <th>Author Name</th>\n",
       "      <th>Genre</th>\n",
       "      <th>Book Review</th>\n",
       "    </tr>\n",
       "  </thead>\n",
       "  <tbody>\n",
       "    <tr>\n",
       "      <th>0</th>\n",
       "      <td>Hades, Argentina</td>\n",
       "      <td>Daniel Loedel</td>\n",
       "      <td>Fiction</td>\n",
       "      <td>As Tomás reenters the world of Argentina’s dir...</td>\n",
       "    </tr>\n",
       "    <tr>\n",
       "      <th>1</th>\n",
       "      <td>Outlawed</td>\n",
       "      <td>Anna North</td>\n",
       "      <td>Fiction</td>\n",
       "      <td>This ain’t no Louis L’Amour tale of the Wild W...</td>\n",
       "    </tr>\n",
       "    <tr>\n",
       "      <th>2</th>\n",
       "      <td>Outside, Inside</td>\n",
       "      <td>LeUyen Pham</td>\n",
       "      <td>Children's</td>\n",
       "      <td>LeUyen Pham’s Outside, Inside addresses the su...</td>\n",
       "    </tr>\n",
       "    <tr>\n",
       "      <th>3</th>\n",
       "      <td>The Push</td>\n",
       "      <td>Ashley Audrain</td>\n",
       "      <td>Fiction</td>\n",
       "      <td>It’s easy to think of intimate, single-POV nov...</td>\n",
       "    </tr>\n",
       "    <tr>\n",
       "      <th>4</th>\n",
       "      <td>I Dream of Popo</td>\n",
       "      <td>Livia Blackburne, Julia Kuo</td>\n",
       "      <td>Children's</td>\n",
       "      <td>A young girl stays in touch with her beloved g...</td>\n",
       "    </tr>\n",
       "  </tbody>\n",
       "</table>\n",
       "</div>"
      ],
      "text/plain": [
       "              Title                  Author Name       Genre  \\\n",
       "0  Hades, Argentina                Daniel Loedel     Fiction   \n",
       "1          Outlawed                   Anna North     Fiction   \n",
       "2   Outside, Inside                  LeUyen Pham  Children's   \n",
       "3          The Push               Ashley Audrain     Fiction   \n",
       "4   I Dream of Popo  Livia Blackburne, Julia Kuo  Children's   \n",
       "\n",
       "                                         Book Review  \n",
       "0  As Tomás reenters the world of Argentina’s dir...  \n",
       "1  This ain’t no Louis L’Amour tale of the Wild W...  \n",
       "2  LeUyen Pham’s Outside, Inside addresses the su...  \n",
       "3  It’s easy to think of intimate, single-POV nov...  \n",
       "4  A young girl stays in touch with her beloved g...  "
      ]
     },
     "execution_count": 388,
     "metadata": {},
     "output_type": "execute_result"
    }
   ],
   "source": [
    "book.head(5)"
   ]
  },
  {
   "cell_type": "code",
   "execution_count": 389,
   "metadata": {},
   "outputs": [],
   "source": [
    "#Saving in csv format\n",
    "df=book\n",
    "df.to_csv('C:/Users/home/Desktop/Internship Projects/fliprobo/bookpage.csv',index = False)"
   ]
  },
  {
   "cell_type": "markdown",
   "metadata": {},
   "source": [
    "### Q5. Write a python program to scrape cricket rankings from 'www.icc-cricket.com'(Men's Cricket)."
   ]
  },
  {
   "cell_type": "markdown",
   "metadata": {},
   "source": [
    "#### i)Top 10 ODI teams in men’s cricket along with the records for matches, points and rating."
   ]
  },
  {
   "cell_type": "code",
   "execution_count": 417,
   "metadata": {},
   "outputs": [],
   "source": [
    "page =  requests.get(\"https://www.icc-cricket.com/rankings/mens/team-rankings/odi\")"
   ]
  },
  {
   "cell_type": "code",
   "execution_count": 531,
   "metadata": {},
   "outputs": [],
   "source": [
    "url=\"https://www.icc-cricket.com/rankings/mens/team-rankings/odi\""
   ]
  },
  {
   "cell_type": "code",
   "execution_count": 532,
   "metadata": {},
   "outputs": [],
   "source": [
    "soup = BeautifulSoup(page.text,'html.parser')"
   ]
  },
  {
   "cell_type": "code",
   "execution_count": 533,
   "metadata": {},
   "outputs": [],
   "source": [
    "driver.get(url)"
   ]
  },
  {
   "cell_type": "code",
   "execution_count": 556,
   "metadata": {},
   "outputs": [
    {
     "data": {
      "text/plain": [
       "['India', 'New Zealand', 'Australia', 'South Africa']"
      ]
     },
     "execution_count": 556,
     "metadata": {},
     "output_type": "execute_result"
    }
   ],
   "source": [
    "Team=[]\n",
    "team_tag=driver.find_elements_by_xpath(\"//tr[@class='table-body']/td[2]\")\n",
    "for i in team_tag:\n",
    "    team=i.text\n",
    "    Team.append(team)\n",
    "Team[0:4]"
   ]
  },
  {
   "cell_type": "code",
   "execution_count": 557,
   "metadata": {},
   "outputs": [
    {
     "data": {
      "text/plain": [
       "['52', '32', '39', '31']"
      ]
     },
     "execution_count": 557,
     "metadata": {},
     "output_type": "execute_result"
    }
   ],
   "source": [
    "Matches=[]\n",
    "matches_tag=driver.find_elements_by_xpath(\"//tr[@class='table-body']/td[3]\")\n",
    "matches_tag[0:4]\n",
    "for i in matches_tag:\n",
    "    match=i.text\n",
    "    Matches.append(match)\n",
    "Matches[0:4]"
   ]
  },
  {
   "cell_type": "code",
   "execution_count": 558,
   "metadata": {},
   "outputs": [
    {
     "data": {
      "text/plain": [
       "['6,102', '3,716', '4,344', '3,345']"
      ]
     },
     "execution_count": 558,
     "metadata": {},
     "output_type": "execute_result"
    }
   ],
   "source": [
    "Points=[]\n",
    "points_tag=driver.find_elements_by_xpath(\"//tr[@class='table-body']/td[4]\")\n",
    "for i in points_tag:\n",
    "    point=i.text\n",
    "    Points.append(point)\n",
    "Points[0:4]"
   ]
  },
  {
   "cell_type": "code",
   "execution_count": 559,
   "metadata": {},
   "outputs": [
    {
     "data": {
      "text/plain": [
       "['117', '116', '111', '108', '100', '88', '85', '76', '55', '52']"
      ]
     },
     "execution_count": 559,
     "metadata": {},
     "output_type": "execute_result"
    }
   ],
   "source": [
    "Ratings=[]\n",
    "rating=soup.find_all(\"td\",class_='table-body__cell u-text-right rating')\n",
    "for i in rating:\n",
    "    Ratings.append(i.get_text().strip().replace(\"\\n\",\"\"))\n",
    "Ratings[:10]"
   ]
  },
  {
   "cell_type": "code",
   "execution_count": 560,
   "metadata": {},
   "outputs": [
    {
     "data": {
      "text/plain": [
       "['1', 'England', '44', '5,405', '123']"
      ]
     },
     "execution_count": 560,
     "metadata": {},
     "output_type": "execute_result"
    }
   ],
   "source": [
    "#For calculating first rating we need additional piece of code.\n",
    "First_team=[]\n",
    "tag=[]\n",
    "for i in range(1,6):\n",
    "    tag.append(driver.find_elements_by_xpath(\"//tr[@class='rankings-block__banner']/td[\"+str(i)+\"]\"))\n",
    "\n",
    "for i in tag:\n",
    "    First_team.append(i[0].text)\n",
    "First_team[0:5]  "
   ]
  },
  {
   "cell_type": "code",
   "execution_count": 561,
   "metadata": {},
   "outputs": [],
   "source": [
    "Team.insert(0,First_team[1])\n",
    "Matches.insert(0,First_team[2])\n",
    "Points.insert(0,First_team[3])\n",
    "Ratings.insert(0,First_team[4])"
   ]
  },
  {
   "cell_type": "code",
   "execution_count": 570,
   "metadata": {},
   "outputs": [
    {
     "name": "stdout",
     "output_type": "stream",
     "text": [
      "20 20 20 20\n"
     ]
    }
   ],
   "source": [
    "print(len(Team),len(Matches),len(Points),len(Ratings))"
   ]
  },
  {
   "cell_type": "code",
   "execution_count": 567,
   "metadata": {},
   "outputs": [],
   "source": [
    "import pandas as pd\n",
    "ODI=pd.DataFrame({})\n",
    "ODI[\"Team\"]=Team\n",
    "ODI[\"Matches\"]=Matches\n",
    "ODI[\"Points\"]=Points\n",
    "ODI[\"Ratings\"]=Ratings"
   ]
  },
  {
   "cell_type": "code",
   "execution_count": 568,
   "metadata": {},
   "outputs": [
    {
     "data": {
      "text/html": [
       "<div>\n",
       "<style scoped>\n",
       "    .dataframe tbody tr th:only-of-type {\n",
       "        vertical-align: middle;\n",
       "    }\n",
       "\n",
       "    .dataframe tbody tr th {\n",
       "        vertical-align: top;\n",
       "    }\n",
       "\n",
       "    .dataframe thead th {\n",
       "        text-align: right;\n",
       "    }\n",
       "</style>\n",
       "<table border=\"1\" class=\"dataframe\">\n",
       "  <thead>\n",
       "    <tr style=\"text-align: right;\">\n",
       "      <th></th>\n",
       "      <th>Team</th>\n",
       "      <th>Matches</th>\n",
       "      <th>Points</th>\n",
       "      <th>Ratings</th>\n",
       "    </tr>\n",
       "  </thead>\n",
       "  <tbody>\n",
       "    <tr>\n",
       "      <th>0</th>\n",
       "      <td>England</td>\n",
       "      <td>44</td>\n",
       "      <td>5,405</td>\n",
       "      <td>123</td>\n",
       "    </tr>\n",
       "    <tr>\n",
       "      <th>1</th>\n",
       "      <td>India</td>\n",
       "      <td>52</td>\n",
       "      <td>6,102</td>\n",
       "      <td>117</td>\n",
       "    </tr>\n",
       "    <tr>\n",
       "      <th>2</th>\n",
       "      <td>New Zealand</td>\n",
       "      <td>32</td>\n",
       "      <td>3,716</td>\n",
       "      <td>116</td>\n",
       "    </tr>\n",
       "    <tr>\n",
       "      <th>3</th>\n",
       "      <td>Australia</td>\n",
       "      <td>39</td>\n",
       "      <td>4,344</td>\n",
       "      <td>111</td>\n",
       "    </tr>\n",
       "    <tr>\n",
       "      <th>4</th>\n",
       "      <td>South Africa</td>\n",
       "      <td>31</td>\n",
       "      <td>3,345</td>\n",
       "      <td>108</td>\n",
       "    </tr>\n",
       "  </tbody>\n",
       "</table>\n",
       "</div>"
      ],
      "text/plain": [
       "           Team Matches Points Ratings\n",
       "0       England      44  5,405     123\n",
       "1         India      52  6,102     117\n",
       "2   New Zealand      32  3,716     116\n",
       "3     Australia      39  4,344     111\n",
       "4  South Africa      31  3,345     108"
      ]
     },
     "execution_count": 568,
     "metadata": {},
     "output_type": "execute_result"
    }
   ],
   "source": [
    "ODI.head(5)"
   ]
  },
  {
   "cell_type": "code",
   "execution_count": 569,
   "metadata": {},
   "outputs": [],
   "source": [
    "df=ODI\n",
    "df.to_csv('C:/Users/home/Desktop/Internship Projects/fliprobo/ODI Mens(i).csv',index = False)"
   ]
  },
  {
   "cell_type": "markdown",
   "metadata": {},
   "source": [
    "#### ii)Top 10 ODI Batsmen in men along with the records of their team and rating."
   ]
  },
  {
   "cell_type": "code",
   "execution_count": 675,
   "metadata": {},
   "outputs": [],
   "source": [
    "url_batsman=\"https://www.icc-cricket.com/rankings/mens/player-rankings/odi/batting\""
   ]
  },
  {
   "cell_type": "code",
   "execution_count": 676,
   "metadata": {},
   "outputs": [],
   "source": [
    "driver.get(url_batsman)"
   ]
  },
  {
   "cell_type": "code",
   "execution_count": 686,
   "metadata": {},
   "outputs": [
    {
     "data": {
      "text/plain": [
       "['Rohit Sharma',\n",
       " 'Babar Azam',\n",
       " 'Ross Taylor',\n",
       " 'Aaron Finch',\n",
       " 'Francois du Plessis',\n",
       " 'David Warner',\n",
       " 'Kane Williamson',\n",
       " 'Quinton de Kock',\n",
       " 'Jonny Bairstow',\n",
       " 'Shai Hope']"
      ]
     },
     "execution_count": 686,
     "metadata": {},
     "output_type": "execute_result"
    }
   ],
   "source": [
    "Player_batsman=[]\n",
    "player_tag=driver.find_elements_by_xpath(\"//td[@class='table-body__cell rankings-table__name name']/a[1]\")\n",
    "for i in player_tag:\n",
    "    player=i.text\n",
    "    Player_batsman.append(player)\n",
    "Player_batsman[0:10]"
   ]
  },
  {
   "cell_type": "code",
   "execution_count": 687,
   "metadata": {},
   "outputs": [
    {
     "data": {
      "text/plain": [
       "['IND', 'PAK', 'NZ', 'AUS', 'SA', 'AUS', 'NZ', 'SA', 'ENG', 'WI']"
      ]
     },
     "execution_count": 687,
     "metadata": {},
     "output_type": "execute_result"
    }
   ],
   "source": [
    "Team_batsman=[]\n",
    "team_tag=driver.find_elements_by_xpath(\"//td[@class='table-body__cell nationality-logo rankings-table__team']/span[2]\")\n",
    "for i in team_tag:\n",
    "    team=i.text\n",
    "    Team_batsman.append(team)\n",
    "Team_batsman[0:10]"
   ]
  },
  {
   "cell_type": "code",
   "execution_count": 689,
   "metadata": {},
   "outputs": [
    {
     "data": {
      "text/plain": [
       "['842', '837', '818', '791', '790', '773', '765', '755', '754', '750']"
      ]
     },
     "execution_count": 689,
     "metadata": {},
     "output_type": "execute_result"
    }
   ],
   "source": [
    "Ratings_batsman=[]\n",
    "rating_tag=driver.find_elements_by_xpath(\"//td[@class='table-body__cell rating']\")\n",
    "for i in rating_tag:\n",
    "    rating=i.text\n",
    "    Ratings_batsman.append(rating)\n",
    "Ratings_batsman[0:10]"
   ]
  },
  {
   "cell_type": "code",
   "execution_count": 690,
   "metadata": {},
   "outputs": [
    {
     "data": {
      "text/plain": [
       "['Virat Kohli', 'IND', '870']"
      ]
     },
     "execution_count": 690,
     "metadata": {},
     "output_type": "execute_result"
    }
   ],
   "source": [
    "#For calculating first rating we need additional piece of code.\n",
    "First_player_batsman=[]\n",
    "tag=[]\n",
    "for i in range(1,6):\n",
    "    tag.append(driver.find_elements_by_xpath(\"//tr[@class='rankings-block__banner']/td[\"+str(i)+\"]\"))\n",
    "\n",
    "for i in tag:\n",
    "    First_player_batsman.append(i[0].text)\n",
    "First_player_batsman[1:4]  "
   ]
  },
  {
   "cell_type": "code",
   "execution_count": 692,
   "metadata": {},
   "outputs": [],
   "source": [
    "Player_batsman.insert(0,First_player[1])\n",
    "Team_batsman.insert(0,First_player[2])\n",
    "Ratings_batsman.insert(0,First_player[3])"
   ]
  },
  {
   "cell_type": "code",
   "execution_count": 693,
   "metadata": {},
   "outputs": [
    {
     "name": "stdout",
     "output_type": "stream",
     "text": [
      "100 100 100\n"
     ]
    }
   ],
   "source": [
    "print(len(Player_batsman),len(Team_batsman),len(Ratings_batsman))"
   ]
  },
  {
   "cell_type": "code",
   "execution_count": 697,
   "metadata": {},
   "outputs": [],
   "source": [
    "import pandas as pd\n",
    "ODI_batsman=pd.DataFrame({})\n",
    "ODI_batsman[\"Player\"]=Player_batsman\n",
    "ODI_batsman[\"Team\"]=Team_batsman\n",
    "ODI_batsman[\"Ratings\"]=Ratings_batsman"
   ]
  },
  {
   "cell_type": "code",
   "execution_count": 698,
   "metadata": {},
   "outputs": [
    {
     "data": {
      "text/html": [
       "<div>\n",
       "<style scoped>\n",
       "    .dataframe tbody tr th:only-of-type {\n",
       "        vertical-align: middle;\n",
       "    }\n",
       "\n",
       "    .dataframe tbody tr th {\n",
       "        vertical-align: top;\n",
       "    }\n",
       "\n",
       "    .dataframe thead th {\n",
       "        text-align: right;\n",
       "    }\n",
       "</style>\n",
       "<table border=\"1\" class=\"dataframe\">\n",
       "  <thead>\n",
       "    <tr style=\"text-align: right;\">\n",
       "      <th></th>\n",
       "      <th>Player</th>\n",
       "      <th>Team</th>\n",
       "      <th>Ratings</th>\n",
       "    </tr>\n",
       "  </thead>\n",
       "  <tbody>\n",
       "    <tr>\n",
       "      <th>0</th>\n",
       "      <td>Virat Kohli</td>\n",
       "      <td>IND</td>\n",
       "      <td>870</td>\n",
       "    </tr>\n",
       "    <tr>\n",
       "      <th>1</th>\n",
       "      <td>Rohit Sharma</td>\n",
       "      <td>IND</td>\n",
       "      <td>842</td>\n",
       "    </tr>\n",
       "    <tr>\n",
       "      <th>2</th>\n",
       "      <td>Babar Azam</td>\n",
       "      <td>PAK</td>\n",
       "      <td>837</td>\n",
       "    </tr>\n",
       "    <tr>\n",
       "      <th>3</th>\n",
       "      <td>Ross Taylor</td>\n",
       "      <td>NZ</td>\n",
       "      <td>818</td>\n",
       "    </tr>\n",
       "    <tr>\n",
       "      <th>4</th>\n",
       "      <td>Aaron Finch</td>\n",
       "      <td>AUS</td>\n",
       "      <td>791</td>\n",
       "    </tr>\n",
       "  </tbody>\n",
       "</table>\n",
       "</div>"
      ],
      "text/plain": [
       "         Player Team Ratings\n",
       "0   Virat Kohli  IND     870\n",
       "1  Rohit Sharma  IND     842\n",
       "2    Babar Azam  PAK     837\n",
       "3   Ross Taylor   NZ     818\n",
       "4   Aaron Finch  AUS     791"
      ]
     },
     "execution_count": 698,
     "metadata": {},
     "output_type": "execute_result"
    }
   ],
   "source": [
    "ODI_batsman.head(5)"
   ]
  },
  {
   "cell_type": "code",
   "execution_count": 699,
   "metadata": {},
   "outputs": [],
   "source": [
    "df_batsman=ODI_batsman\n",
    "df_batsman.to_csv('C:/Users/home/Desktop/Internship Projects/fliprobo/ODI Mens_Batsmen(ii).csv',index = False)"
   ]
  },
  {
   "cell_type": "markdown",
   "metadata": {},
   "source": [
    "#### iii) Top 10 ODI bowlers along with the records of their team and rating."
   ]
  },
  {
   "cell_type": "code",
   "execution_count": 701,
   "metadata": {},
   "outputs": [],
   "source": [
    "url_bowler=\"https://www.icc-cricket.com/rankings/mens/player-rankings/odi/bowling\""
   ]
  },
  {
   "cell_type": "code",
   "execution_count": 702,
   "metadata": {},
   "outputs": [],
   "source": [
    "driver.get(url_bowler)"
   ]
  },
  {
   "cell_type": "code",
   "execution_count": 703,
   "metadata": {},
   "outputs": [
    {
     "data": {
      "text/plain": [
       "['Mujeeb Ur Rahman',\n",
       " 'Jasprit Bumrah',\n",
       " 'Chris Woakes',\n",
       " 'Kagiso Rabada',\n",
       " 'Josh Hazlewood',\n",
       " 'Mohammad Amir',\n",
       " 'Pat Cummins',\n",
       " 'Matt Henry',\n",
       " 'Jofra Archer']"
      ]
     },
     "execution_count": 703,
     "metadata": {},
     "output_type": "execute_result"
    }
   ],
   "source": [
    "Bowler=[]\n",
    "bowler_tag=driver.find_elements_by_xpath(\"//td[@class='table-body__cell rankings-table__name name']/a[1]\")\n",
    "for i in bowler_tag:\n",
    "    bowler=i.text\n",
    "    Bowler.append(bowler)\n",
    "Bowler[0:9]"
   ]
  },
  {
   "cell_type": "code",
   "execution_count": 704,
   "metadata": {},
   "outputs": [
    {
     "data": {
      "text/plain": [
       "['AFG', 'IND', 'ENG', 'SA', 'AUS', 'PAK', 'AUS', 'NZ', 'ENG']"
      ]
     },
     "execution_count": 704,
     "metadata": {},
     "output_type": "execute_result"
    }
   ],
   "source": [
    "Team_bowler=[]\n",
    "team_tag=driver.find_elements_by_xpath(\"//td[@class='table-body__cell nationality-logo rankings-table__team']/span[2]\")\n",
    "for i in team_tag:\n",
    "    team=i.text\n",
    "    Team_bowler.append(team)\n",
    "Team_bowler[0:9]"
   ]
  },
  {
   "cell_type": "code",
   "execution_count": 705,
   "metadata": {},
   "outputs": [
    {
     "data": {
      "text/plain": [
       "['701', '700', '675', '665', '660', '647', '646', '641', '637']"
      ]
     },
     "execution_count": 705,
     "metadata": {},
     "output_type": "execute_result"
    }
   ],
   "source": [
    "Ratings_bowler=[]\n",
    "rating_tag=driver.find_elements_by_xpath(\"//td[@class='table-body__cell rating']\")\n",
    "for i in rating_tag:\n",
    "    rating=i.text\n",
    "    Ratings_bowler.append(rating)\n",
    "Ratings_bowler[0:9]"
   ]
  },
  {
   "cell_type": "code",
   "execution_count": 706,
   "metadata": {},
   "outputs": [
    {
     "data": {
      "text/plain": [
       "['Trent Boult', 'NZ', '722']"
      ]
     },
     "execution_count": 706,
     "metadata": {},
     "output_type": "execute_result"
    }
   ],
   "source": [
    "#For calculating first rating we need additional piece of code.\n",
    "First_bowler=[]\n",
    "tag=[]\n",
    "for i in range(1,6):\n",
    "    tag.append(driver.find_elements_by_xpath(\"//tr[@class='rankings-block__banner']/td[\"+str(i)+\"]\"))\n",
    "\n",
    "for i in tag:\n",
    "    First_bowler.append(i[0].text)\n",
    "First_bowler[1:4]  "
   ]
  },
  {
   "cell_type": "code",
   "execution_count": 708,
   "metadata": {},
   "outputs": [],
   "source": [
    "Bowler.insert(0,First_bowler[1])\n",
    "Team_bowler.insert(0,First_bowler[2])\n",
    "Ratings_bowler.insert(0,First_bowler[3])"
   ]
  },
  {
   "cell_type": "code",
   "execution_count": 710,
   "metadata": {},
   "outputs": [
    {
     "name": "stdout",
     "output_type": "stream",
     "text": [
      "100 100 100\n"
     ]
    }
   ],
   "source": [
    "print(len(Bowler),len(Team_bowler),len(Ratings_bowler))"
   ]
  },
  {
   "cell_type": "code",
   "execution_count": 714,
   "metadata": {},
   "outputs": [],
   "source": [
    "import pandas as pd\n",
    "ODI_bowler=pd.DataFrame({})\n",
    "ODI_bowler[\"Bowler_name\"]=Bowler[:20]\n",
    "ODI_bowler[\"Team\"]=Team_bowler[:20]\n",
    "ODI_bowler[\"Ratings\"]=Ratings_bowler[:20]"
   ]
  },
  {
   "cell_type": "code",
   "execution_count": 716,
   "metadata": {},
   "outputs": [
    {
     "data": {
      "text/html": [
       "<div>\n",
       "<style scoped>\n",
       "    .dataframe tbody tr th:only-of-type {\n",
       "        vertical-align: middle;\n",
       "    }\n",
       "\n",
       "    .dataframe tbody tr th {\n",
       "        vertical-align: top;\n",
       "    }\n",
       "\n",
       "    .dataframe thead th {\n",
       "        text-align: right;\n",
       "    }\n",
       "</style>\n",
       "<table border=\"1\" class=\"dataframe\">\n",
       "  <thead>\n",
       "    <tr style=\"text-align: right;\">\n",
       "      <th></th>\n",
       "      <th>Bowler_name</th>\n",
       "      <th>Team</th>\n",
       "      <th>Ratings</th>\n",
       "    </tr>\n",
       "  </thead>\n",
       "  <tbody>\n",
       "    <tr>\n",
       "      <th>0</th>\n",
       "      <td>Trent Boult</td>\n",
       "      <td>NZ</td>\n",
       "      <td>722</td>\n",
       "    </tr>\n",
       "    <tr>\n",
       "      <th>1</th>\n",
       "      <td>Mujeeb Ur Rahman</td>\n",
       "      <td>AFG</td>\n",
       "      <td>701</td>\n",
       "    </tr>\n",
       "    <tr>\n",
       "      <th>2</th>\n",
       "      <td>Jasprit Bumrah</td>\n",
       "      <td>IND</td>\n",
       "      <td>700</td>\n",
       "    </tr>\n",
       "    <tr>\n",
       "      <th>3</th>\n",
       "      <td>Chris Woakes</td>\n",
       "      <td>ENG</td>\n",
       "      <td>675</td>\n",
       "    </tr>\n",
       "    <tr>\n",
       "      <th>4</th>\n",
       "      <td>Kagiso Rabada</td>\n",
       "      <td>SA</td>\n",
       "      <td>665</td>\n",
       "    </tr>\n",
       "    <tr>\n",
       "      <th>5</th>\n",
       "      <td>Josh Hazlewood</td>\n",
       "      <td>AUS</td>\n",
       "      <td>660</td>\n",
       "    </tr>\n",
       "    <tr>\n",
       "      <th>6</th>\n",
       "      <td>Mohammad Amir</td>\n",
       "      <td>PAK</td>\n",
       "      <td>647</td>\n",
       "    </tr>\n",
       "    <tr>\n",
       "      <th>7</th>\n",
       "      <td>Pat Cummins</td>\n",
       "      <td>AUS</td>\n",
       "      <td>646</td>\n",
       "    </tr>\n",
       "    <tr>\n",
       "      <th>8</th>\n",
       "      <td>Matt Henry</td>\n",
       "      <td>NZ</td>\n",
       "      <td>641</td>\n",
       "    </tr>\n",
       "    <tr>\n",
       "      <th>9</th>\n",
       "      <td>Jofra Archer</td>\n",
       "      <td>ENG</td>\n",
       "      <td>637</td>\n",
       "    </tr>\n",
       "  </tbody>\n",
       "</table>\n",
       "</div>"
      ],
      "text/plain": [
       "        Bowler_name Team Ratings\n",
       "0       Trent Boult   NZ     722\n",
       "1  Mujeeb Ur Rahman  AFG     701\n",
       "2    Jasprit Bumrah  IND     700\n",
       "3      Chris Woakes  ENG     675\n",
       "4     Kagiso Rabada   SA     665\n",
       "5    Josh Hazlewood  AUS     660\n",
       "6     Mohammad Amir  PAK     647\n",
       "7       Pat Cummins  AUS     646\n",
       "8        Matt Henry   NZ     641\n",
       "9      Jofra Archer  ENG     637"
      ]
     },
     "execution_count": 716,
     "metadata": {},
     "output_type": "execute_result"
    }
   ],
   "source": [
    "ODI_bowler[:10]"
   ]
  },
  {
   "cell_type": "code",
   "execution_count": 717,
   "metadata": {},
   "outputs": [],
   "source": [
    "df_bowler=ODI_bowler\n",
    "df_bowler.to_csv('C:/Users/home/Desktop/Internship Projects/fliprobo/ODI Mens_Bowler(iii).csv',index = False)"
   ]
  },
  {
   "cell_type": "markdown",
   "metadata": {},
   "source": [
    "### Q6. Write a python program to scrape cricket rankings from 'www.icc-cricket.com'(Women's Cricket)."
   ]
  },
  {
   "cell_type": "markdown",
   "metadata": {},
   "source": [
    "#### i)Top 10 ODI teams in women’s cricket along with the records for matches, points and rating."
   ]
  },
  {
   "cell_type": "code",
   "execution_count": 739,
   "metadata": {},
   "outputs": [],
   "source": [
    "page =  requests.get(\"https://www.icc-cricket.com/rankings/womens/team-rankings/odi\")"
   ]
  },
  {
   "cell_type": "code",
   "execution_count": 740,
   "metadata": {},
   "outputs": [],
   "source": [
    "url_W1=\"https://www.icc-cricket.com/rankings/womens/team-rankings/odi\""
   ]
  },
  {
   "cell_type": "code",
   "execution_count": 741,
   "metadata": {},
   "outputs": [],
   "source": [
    "soup = BeautifulSoup(page.text,'html.parser')"
   ]
  },
  {
   "cell_type": "code",
   "execution_count": 742,
   "metadata": {},
   "outputs": [],
   "source": [
    "driver.get(url_W1)"
   ]
  },
  {
   "cell_type": "code",
   "execution_count": 743,
   "metadata": {},
   "outputs": [
    {
     "data": {
      "text/plain": [
       "['India',\n",
       " 'England',\n",
       " 'South Africa',\n",
       " 'New Zealand',\n",
       " 'West Indies',\n",
       " 'Pakistan',\n",
       " 'Bangladesh',\n",
       " 'Sri Lanka',\n",
       " 'Ireland']"
      ]
     },
     "execution_count": 743,
     "metadata": {},
     "output_type": "execute_result"
    }
   ],
   "source": [
    "Team_W1=[]\n",
    "team_tag=driver.find_elements_by_xpath(\"//tr[@class='table-body']/td[2]\")\n",
    "for i in team_tag:\n",
    "    team=i.text\n",
    "    Team_W1.append(team)\n",
    "Team_W1[0:9]"
   ]
  },
  {
   "cell_type": "code",
   "execution_count": 744,
   "metadata": {},
   "outputs": [
    {
     "data": {
      "text/plain": [
       "['15', '14', '16', '15', '12', '12', '5', '11', '2']"
      ]
     },
     "execution_count": 744,
     "metadata": {},
     "output_type": "execute_result"
    }
   ],
   "source": [
    "Matches_W1=[]\n",
    "matches_tag=driver.find_elements_by_xpath(\"//tr[@class='table-body']/td[3]\")\n",
    "matches_tag[0:4]\n",
    "for i in matches_tag:\n",
    "    match=i.text\n",
    "    Matches_W1.append(match)\n",
    "Matches_W1[0:9]"
   ]
  },
  {
   "cell_type": "code",
   "execution_count": 745,
   "metadata": {},
   "outputs": [
    {
     "data": {
      "text/plain": [
       "['1,812', '1,670', '1,713', '1,384']"
      ]
     },
     "execution_count": 745,
     "metadata": {},
     "output_type": "execute_result"
    }
   ],
   "source": [
    "Points_W1=[]\n",
    "points_tag=driver.find_elements_by_xpath(\"//tr[@class='table-body']/td[4]\")\n",
    "for i in points_tag:\n",
    "    point=i.text\n",
    "    Points_W1.append(point)\n",
    "Points_W1[0:4]"
   ]
  },
  {
   "cell_type": "code",
   "execution_count": 746,
   "metadata": {},
   "outputs": [
    {
     "data": {
      "text/plain": [
       "['121', '119', '107', '92', '85', '77', '61', '47', '13']"
      ]
     },
     "execution_count": 746,
     "metadata": {},
     "output_type": "execute_result"
    }
   ],
   "source": [
    "Ratings_W1=[]\n",
    "rating=soup.find_all(\"td\",class_='table-body__cell u-text-right rating')\n",
    "for i in rating:\n",
    "    Ratings_W1.append(i.get_text().strip().replace(\"\\n\",\"\"))\n",
    "Ratings_W1[:10]"
   ]
  },
  {
   "cell_type": "code",
   "execution_count": 747,
   "metadata": {},
   "outputs": [
    {
     "data": {
      "text/plain": [
       "['1', 'Australia', '15', '2,436', '162']"
      ]
     },
     "execution_count": 747,
     "metadata": {},
     "output_type": "execute_result"
    }
   ],
   "source": [
    "#For calculating first rating we need additional piece of code.\n",
    "First_team_W1=[]\n",
    "tag=[]\n",
    "for i in range(1,6):\n",
    "    tag.append(driver.find_elements_by_xpath(\"//tr[@class='rankings-block__banner']/td[\"+str(i)+\"]\"))\n",
    "\n",
    "for i in tag:\n",
    "    First_team_W1.append(i[0].text)\n",
    "First_team_W1[0:5]  "
   ]
  },
  {
   "cell_type": "code",
   "execution_count": 748,
   "metadata": {},
   "outputs": [],
   "source": [
    "Team_W1.insert(0,First_team_W1[1])\n",
    "Matches_W1.insert(0,First_team_W1[2])\n",
    "Points_W1.insert(0,First_team_W1[3])\n",
    "Ratings_W1.insert(0,First_team_W1[4])"
   ]
  },
  {
   "cell_type": "code",
   "execution_count": 749,
   "metadata": {},
   "outputs": [
    {
     "data": {
      "text/plain": [
       "['15', '15', '14', '16', '15', '12', '12', '5', '11', '2']"
      ]
     },
     "execution_count": 749,
     "metadata": {},
     "output_type": "execute_result"
    }
   ],
   "source": [
    "Matches_W1[:10]"
   ]
  },
  {
   "cell_type": "code",
   "execution_count": 750,
   "metadata": {},
   "outputs": [
    {
     "name": "stdout",
     "output_type": "stream",
     "text": [
      "10 10 10 10\n"
     ]
    }
   ],
   "source": [
    "print(len(Team_W1),len(Matches_W1),len(Points_W1),len(Ratings_W1))"
   ]
  },
  {
   "cell_type": "code",
   "execution_count": 751,
   "metadata": {},
   "outputs": [],
   "source": [
    "import pandas as pd\n",
    "WODI=pd.DataFrame({})\n",
    "WODI[\"Team\"]=Team_W1\n",
    "WODI[\"Matches\"]=Matches_W1\n",
    "WODI[\"Points\"]=Points_W1\n",
    "WODI[\"Ratings\"]=Ratings_W1"
   ]
  },
  {
   "cell_type": "code",
   "execution_count": 752,
   "metadata": {},
   "outputs": [
    {
     "data": {
      "text/html": [
       "<div>\n",
       "<style scoped>\n",
       "    .dataframe tbody tr th:only-of-type {\n",
       "        vertical-align: middle;\n",
       "    }\n",
       "\n",
       "    .dataframe tbody tr th {\n",
       "        vertical-align: top;\n",
       "    }\n",
       "\n",
       "    .dataframe thead th {\n",
       "        text-align: right;\n",
       "    }\n",
       "</style>\n",
       "<table border=\"1\" class=\"dataframe\">\n",
       "  <thead>\n",
       "    <tr style=\"text-align: right;\">\n",
       "      <th></th>\n",
       "      <th>Team</th>\n",
       "      <th>Matches</th>\n",
       "      <th>Points</th>\n",
       "      <th>Ratings</th>\n",
       "    </tr>\n",
       "  </thead>\n",
       "  <tbody>\n",
       "    <tr>\n",
       "      <th>0</th>\n",
       "      <td>Australia</td>\n",
       "      <td>15</td>\n",
       "      <td>2,436</td>\n",
       "      <td>162</td>\n",
       "    </tr>\n",
       "    <tr>\n",
       "      <th>1</th>\n",
       "      <td>India</td>\n",
       "      <td>15</td>\n",
       "      <td>1,812</td>\n",
       "      <td>121</td>\n",
       "    </tr>\n",
       "    <tr>\n",
       "      <th>2</th>\n",
       "      <td>England</td>\n",
       "      <td>14</td>\n",
       "      <td>1,670</td>\n",
       "      <td>119</td>\n",
       "    </tr>\n",
       "    <tr>\n",
       "      <th>3</th>\n",
       "      <td>South Africa</td>\n",
       "      <td>16</td>\n",
       "      <td>1,713</td>\n",
       "      <td>107</td>\n",
       "    </tr>\n",
       "    <tr>\n",
       "      <th>4</th>\n",
       "      <td>New Zealand</td>\n",
       "      <td>15</td>\n",
       "      <td>1,384</td>\n",
       "      <td>92</td>\n",
       "    </tr>\n",
       "  </tbody>\n",
       "</table>\n",
       "</div>"
      ],
      "text/plain": [
       "           Team Matches Points Ratings\n",
       "0     Australia      15  2,436     162\n",
       "1         India      15  1,812     121\n",
       "2       England      14  1,670     119\n",
       "3  South Africa      16  1,713     107\n",
       "4   New Zealand      15  1,384      92"
      ]
     },
     "execution_count": 752,
     "metadata": {},
     "output_type": "execute_result"
    }
   ],
   "source": [
    "WODI.head(5)"
   ]
  },
  {
   "cell_type": "code",
   "execution_count": 753,
   "metadata": {},
   "outputs": [],
   "source": [
    "df=WODI\n",
    "df.to_csv('C:/Users/home/Desktop/Internship Projects/fliprobo/WODI Womens(i).csv',index = False)"
   ]
  },
  {
   "cell_type": "markdown",
   "metadata": {},
   "source": [
    "#### ii)Top 10 women’s ODI players along with the records of their team and rating."
   ]
  },
  {
   "cell_type": "code",
   "execution_count": 754,
   "metadata": {},
   "outputs": [],
   "source": [
    "url_women=\"https://www.icc-cricket.com/rankings/womens/player-rankings/odi/batting\""
   ]
  },
  {
   "cell_type": "code",
   "execution_count": 755,
   "metadata": {},
   "outputs": [],
   "source": [
    "driver.get(url_women)"
   ]
  },
  {
   "cell_type": "code",
   "execution_count": 756,
   "metadata": {},
   "outputs": [
    {
     "data": {
      "text/plain": [
       "['Stafanie Taylor',\n",
       " 'Alyssa Healy',\n",
       " 'Smriti Mandhana',\n",
       " 'Amy Satterthwaite',\n",
       " 'Tammy Beaumont',\n",
       " 'Ellyse Perry',\n",
       " 'Lizelle Lee',\n",
       " 'Laura Wolvaardt',\n",
       " 'Mithali Raj',\n",
       " 'Natalie Sciver']"
      ]
     },
     "execution_count": 756,
     "metadata": {},
     "output_type": "execute_result"
    }
   ],
   "source": [
    "Player_women=[]\n",
    "player_tag=driver.find_elements_by_xpath(\"//td[@class='table-body__cell rankings-table__name name']/a[1]\")\n",
    "for i in player_tag:\n",
    "    player_women=i.text\n",
    "    Player_women.append(player_women)\n",
    "Player_women[0:10]"
   ]
  },
  {
   "cell_type": "code",
   "execution_count": 757,
   "metadata": {},
   "outputs": [
    {
     "data": {
      "text/plain": [
       "['WI', 'AUS', 'IND', 'NZ', 'ENG', 'AUS', 'SA', 'SA', 'IND', 'ENG']"
      ]
     },
     "execution_count": 757,
     "metadata": {},
     "output_type": "execute_result"
    }
   ],
   "source": [
    "Team_women=[]\n",
    "team_tag=driver.find_elements_by_xpath(\"//td[@class='table-body__cell nationality-logo rankings-table__team']/span[2]\")\n",
    "for i in team_tag:\n",
    "    team_women=i.text\n",
    "    Team_women.append(team_women)\n",
    "Team_women[0:10]"
   ]
  },
  {
   "cell_type": "code",
   "execution_count": 758,
   "metadata": {},
   "outputs": [
    {
     "data": {
      "text/plain": [
       "['746', '741', '732', '723', '716', '691', '690', '689', '687', '670']"
      ]
     },
     "execution_count": 758,
     "metadata": {},
     "output_type": "execute_result"
    }
   ],
   "source": [
    "Ratings_women=[]\n",
    "rating_tag=driver.find_elements_by_xpath(\"//td[@class='table-body__cell rating']\")\n",
    "for i in rating_tag:\n",
    "    rating=i.text\n",
    "    Ratings_women.append(rating)\n",
    "Ratings_women[0:10]"
   ]
  },
  {
   "cell_type": "code",
   "execution_count": 759,
   "metadata": {},
   "outputs": [
    {
     "data": {
      "text/plain": [
       "['Meg Lanning', 'AUS', '749']"
      ]
     },
     "execution_count": 759,
     "metadata": {},
     "output_type": "execute_result"
    }
   ],
   "source": [
    "#For calculating first rating we need additional piece of code.\n",
    "First_player_women=[]\n",
    "tag=[]\n",
    "for i in range(1,6):\n",
    "    tag.append(driver.find_elements_by_xpath(\"//tr[@class='rankings-block__banner']/td[\"+str(i)+\"]\"))\n",
    "\n",
    "for i in tag:\n",
    "    First_player_women.append(i[0].text)\n",
    "First_player_women[1:4]  "
   ]
  },
  {
   "cell_type": "code",
   "execution_count": 761,
   "metadata": {},
   "outputs": [],
   "source": [
    "Player_women.insert(0,First_player_women[1])\n",
    "Team_women.insert(0,First_player_women[2])\n",
    "Ratings_women.insert(0,First_player_women[3])"
   ]
  },
  {
   "cell_type": "code",
   "execution_count": 762,
   "metadata": {},
   "outputs": [
    {
     "name": "stdout",
     "output_type": "stream",
     "text": [
      "100 100 100\n"
     ]
    }
   ],
   "source": [
    "print(len(Player_women),len(Team_women),len(Ratings_women))"
   ]
  },
  {
   "cell_type": "code",
   "execution_count": 763,
   "metadata": {},
   "outputs": [],
   "source": [
    "import pandas as pd\n",
    "WODI1_women=pd.DataFrame({})\n",
    "WODI1_women[\"Player\"]=Player_women\n",
    "WODI1_women[\"Team\"]=Team_women\n",
    "WODI1_women[\"Ratings\"]=Ratings_women"
   ]
  },
  {
   "cell_type": "code",
   "execution_count": 764,
   "metadata": {},
   "outputs": [
    {
     "data": {
      "text/html": [
       "<div>\n",
       "<style scoped>\n",
       "    .dataframe tbody tr th:only-of-type {\n",
       "        vertical-align: middle;\n",
       "    }\n",
       "\n",
       "    .dataframe tbody tr th {\n",
       "        vertical-align: top;\n",
       "    }\n",
       "\n",
       "    .dataframe thead th {\n",
       "        text-align: right;\n",
       "    }\n",
       "</style>\n",
       "<table border=\"1\" class=\"dataframe\">\n",
       "  <thead>\n",
       "    <tr style=\"text-align: right;\">\n",
       "      <th></th>\n",
       "      <th>Player</th>\n",
       "      <th>Team</th>\n",
       "      <th>Ratings</th>\n",
       "    </tr>\n",
       "  </thead>\n",
       "  <tbody>\n",
       "    <tr>\n",
       "      <th>0</th>\n",
       "      <td>Meg Lanning</td>\n",
       "      <td>AUS</td>\n",
       "      <td>749</td>\n",
       "    </tr>\n",
       "    <tr>\n",
       "      <th>1</th>\n",
       "      <td>Stafanie Taylor</td>\n",
       "      <td>WI</td>\n",
       "      <td>746</td>\n",
       "    </tr>\n",
       "    <tr>\n",
       "      <th>2</th>\n",
       "      <td>Alyssa Healy</td>\n",
       "      <td>AUS</td>\n",
       "      <td>741</td>\n",
       "    </tr>\n",
       "    <tr>\n",
       "      <th>3</th>\n",
       "      <td>Smriti Mandhana</td>\n",
       "      <td>IND</td>\n",
       "      <td>732</td>\n",
       "    </tr>\n",
       "    <tr>\n",
       "      <th>4</th>\n",
       "      <td>Amy Satterthwaite</td>\n",
       "      <td>NZ</td>\n",
       "      <td>723</td>\n",
       "    </tr>\n",
       "  </tbody>\n",
       "</table>\n",
       "</div>"
      ],
      "text/plain": [
       "              Player Team Ratings\n",
       "0        Meg Lanning  AUS     749\n",
       "1    Stafanie Taylor   WI     746\n",
       "2       Alyssa Healy  AUS     741\n",
       "3    Smriti Mandhana  IND     732\n",
       "4  Amy Satterthwaite   NZ     723"
      ]
     },
     "execution_count": 764,
     "metadata": {},
     "output_type": "execute_result"
    }
   ],
   "source": [
    "WODI1_women.head(5)"
   ]
  },
  {
   "cell_type": "code",
   "execution_count": 765,
   "metadata": {},
   "outputs": [],
   "source": [
    "df_women=WODI1_women\n",
    "df_women.to_csv('C:/Users/home/Desktop/Internship Projects/fliprobo/WODI1 Womens_Batsmen(ii).csv',index = False)"
   ]
  },
  {
   "cell_type": "markdown",
   "metadata": {},
   "source": [
    "#### iii) Top 10 women’s ODI all-rounder along with the records of their team and rating."
   ]
  },
  {
   "cell_type": "code",
   "execution_count": 766,
   "metadata": {},
   "outputs": [],
   "source": [
    "url_all_rounder=\"https://www.icc-cricket.com/rankings/womens/player-rankings/odi/all-rounder\""
   ]
  },
  {
   "cell_type": "code",
   "execution_count": 767,
   "metadata": {},
   "outputs": [],
   "source": [
    "driver.get(url_all_rounder)"
   ]
  },
  {
   "cell_type": "code",
   "execution_count": 768,
   "metadata": {},
   "outputs": [
    {
     "data": {
      "text/plain": [
       "['Stafanie Taylor',\n",
       " 'Marizanne Kapp',\n",
       " 'Deepti Sharma',\n",
       " 'Dane van Niekerk',\n",
       " 'Jess Jonassen',\n",
       " 'Sophie Devine',\n",
       " 'Natalie Sciver',\n",
       " 'Shikha Pandey',\n",
       " 'Katherine Brunt']"
      ]
     },
     "execution_count": 768,
     "metadata": {},
     "output_type": "execute_result"
    }
   ],
   "source": [
    "All_rounder=[]\n",
    "all_rounder_tag=driver.find_elements_by_xpath(\"//td[@class='table-body__cell rankings-table__name name']/a[1]\")\n",
    "for i in all_rounder_tag:\n",
    "    all_rounder=i.text\n",
    "    All_rounder.append(all_rounder)\n",
    "All_rounder[0:9]"
   ]
  },
  {
   "cell_type": "code",
   "execution_count": 769,
   "metadata": {},
   "outputs": [
    {
     "data": {
      "text/plain": [
       "['WI', 'SA', 'IND', 'SA', 'AUS', 'NZ', 'ENG', 'IND', 'ENG']"
      ]
     },
     "execution_count": 769,
     "metadata": {},
     "output_type": "execute_result"
    }
   ],
   "source": [
    "Team_all_rounder=[]\n",
    "team_tag=driver.find_elements_by_xpath(\"//td[@class='table-body__cell nationality-logo rankings-table__team']/span[2]\")\n",
    "for i in team_tag:\n",
    "    team=i.text\n",
    "    Team_all_rounder.append(team)\n",
    "Team_all_rounder[0:9]"
   ]
  },
  {
   "cell_type": "code",
   "execution_count": 770,
   "metadata": {},
   "outputs": [
    {
     "data": {
      "text/plain": [
       "['410', '389', '359', '335', '301', '289', '273', '250', '232']"
      ]
     },
     "execution_count": 770,
     "metadata": {},
     "output_type": "execute_result"
    }
   ],
   "source": [
    "Ratings_all_rounder=[]\n",
    "rating_tag=driver.find_elements_by_xpath(\"//td[@class='table-body__cell rating']\")\n",
    "for i in rating_tag:\n",
    "    rating=i.text\n",
    "    Ratings_all_rounder.append(rating)\n",
    "Ratings_all_rounder[0:9]"
   ]
  },
  {
   "cell_type": "code",
   "execution_count": 771,
   "metadata": {},
   "outputs": [
    {
     "data": {
      "text/plain": [
       "['Ellyse Perry', 'AUS', '460']"
      ]
     },
     "execution_count": 771,
     "metadata": {},
     "output_type": "execute_result"
    }
   ],
   "source": [
    "#For calculating first rating we need additional piece of code.\n",
    "First_all_rounder=[]\n",
    "tag=[]\n",
    "for i in range(1,6):\n",
    "    tag.append(driver.find_elements_by_xpath(\"//tr[@class='rankings-block__banner']/td[\"+str(i)+\"]\"))\n",
    "\n",
    "for i in tag:\n",
    "    First_all_rounder.append(i[0].text)\n",
    "First_all_rounder[1:4]  "
   ]
  },
  {
   "cell_type": "code",
   "execution_count": 772,
   "metadata": {},
   "outputs": [],
   "source": [
    "All_rounder.insert(0,First_all_rounder[1])\n",
    "Team_all_rounder.insert(0,First_all_rounder[2])\n",
    "Ratings_all_rounder.insert(0,First_all_rounder[3])"
   ]
  },
  {
   "cell_type": "code",
   "execution_count": 773,
   "metadata": {},
   "outputs": [
    {
     "name": "stdout",
     "output_type": "stream",
     "text": [
      "20 20 20\n"
     ]
    }
   ],
   "source": [
    "print(len(All_rounder),len(Team_all_rounder),len(Ratings_all_rounder))"
   ]
  },
  {
   "cell_type": "code",
   "execution_count": 774,
   "metadata": {},
   "outputs": [],
   "source": [
    "import pandas as pd\n",
    "WODI1_all_rounder=pd.DataFrame({})\n",
    "WODI1_all_rounder[\"Bowler_name\"]=All_rounder[:20]\n",
    "WODI1_all_rounder[\"Team\"]=Team_all_rounder[:20]\n",
    "WODI1_all_rounder[\"Ratings\"]=Ratings_all_rounder[:20]"
   ]
  },
  {
   "cell_type": "code",
   "execution_count": 776,
   "metadata": {},
   "outputs": [
    {
     "data": {
      "text/html": [
       "<div>\n",
       "<style scoped>\n",
       "    .dataframe tbody tr th:only-of-type {\n",
       "        vertical-align: middle;\n",
       "    }\n",
       "\n",
       "    .dataframe tbody tr th {\n",
       "        vertical-align: top;\n",
       "    }\n",
       "\n",
       "    .dataframe thead th {\n",
       "        text-align: right;\n",
       "    }\n",
       "</style>\n",
       "<table border=\"1\" class=\"dataframe\">\n",
       "  <thead>\n",
       "    <tr style=\"text-align: right;\">\n",
       "      <th></th>\n",
       "      <th>Bowler_name</th>\n",
       "      <th>Team</th>\n",
       "      <th>Ratings</th>\n",
       "    </tr>\n",
       "  </thead>\n",
       "  <tbody>\n",
       "    <tr>\n",
       "      <th>0</th>\n",
       "      <td>Ellyse Perry</td>\n",
       "      <td>AUS</td>\n",
       "      <td>460</td>\n",
       "    </tr>\n",
       "    <tr>\n",
       "      <th>1</th>\n",
       "      <td>Stafanie Taylor</td>\n",
       "      <td>WI</td>\n",
       "      <td>410</td>\n",
       "    </tr>\n",
       "    <tr>\n",
       "      <th>2</th>\n",
       "      <td>Marizanne Kapp</td>\n",
       "      <td>SA</td>\n",
       "      <td>389</td>\n",
       "    </tr>\n",
       "    <tr>\n",
       "      <th>3</th>\n",
       "      <td>Deepti Sharma</td>\n",
       "      <td>IND</td>\n",
       "      <td>359</td>\n",
       "    </tr>\n",
       "    <tr>\n",
       "      <th>4</th>\n",
       "      <td>Dane van Niekerk</td>\n",
       "      <td>SA</td>\n",
       "      <td>335</td>\n",
       "    </tr>\n",
       "    <tr>\n",
       "      <th>5</th>\n",
       "      <td>Jess Jonassen</td>\n",
       "      <td>AUS</td>\n",
       "      <td>301</td>\n",
       "    </tr>\n",
       "    <tr>\n",
       "      <th>6</th>\n",
       "      <td>Sophie Devine</td>\n",
       "      <td>NZ</td>\n",
       "      <td>289</td>\n",
       "    </tr>\n",
       "    <tr>\n",
       "      <th>7</th>\n",
       "      <td>Natalie Sciver</td>\n",
       "      <td>ENG</td>\n",
       "      <td>273</td>\n",
       "    </tr>\n",
       "    <tr>\n",
       "      <th>8</th>\n",
       "      <td>Shikha Pandey</td>\n",
       "      <td>IND</td>\n",
       "      <td>250</td>\n",
       "    </tr>\n",
       "    <tr>\n",
       "      <th>9</th>\n",
       "      <td>Katherine Brunt</td>\n",
       "      <td>ENG</td>\n",
       "      <td>232</td>\n",
       "    </tr>\n",
       "  </tbody>\n",
       "</table>\n",
       "</div>"
      ],
      "text/plain": [
       "        Bowler_name Team Ratings\n",
       "0      Ellyse Perry  AUS     460\n",
       "1   Stafanie Taylor   WI     410\n",
       "2    Marizanne Kapp   SA     389\n",
       "3     Deepti Sharma  IND     359\n",
       "4  Dane van Niekerk   SA     335\n",
       "5     Jess Jonassen  AUS     301\n",
       "6     Sophie Devine   NZ     289\n",
       "7    Natalie Sciver  ENG     273\n",
       "8     Shikha Pandey  IND     250\n",
       "9   Katherine Brunt  ENG     232"
      ]
     },
     "execution_count": 776,
     "metadata": {},
     "output_type": "execute_result"
    }
   ],
   "source": [
    "WODI1_all_rounder[:10]"
   ]
  },
  {
   "cell_type": "code",
   "execution_count": 777,
   "metadata": {},
   "outputs": [],
   "source": [
    "df_all_rounder=WODI1_all_rounder\n",
    "df_all_rounder.to_csv('C:/Users/home/Desktop/Internship Projects/fliprobo/WODI1 Women_all_rounder(iii).csv',index = False)"
   ]
  },
  {
   "cell_type": "markdown",
   "metadata": {},
   "source": [
    "### Q7. Write a python program to scrape details of all the mobile phones under Rs. 20,000 listed on Amazon.in. The scraped data should include Product Name, Price, Image URL and Average Rating."
   ]
  },
  {
   "cell_type": "code",
   "execution_count": 64,
   "metadata": {},
   "outputs": [
    {
     "name": "stderr",
     "output_type": "stream",
     "text": [
      "<>:18: SyntaxWarning: \"is not\" with a literal. Did you mean \"!=\"?\n",
      "<ipython-input-64-eb41c085982c>:18: SyntaxWarning: \"is not\" with a literal. Did you mean \"!=\"?\n",
      "  if j is not \")\": name += j\n"
     ]
    },
    {
     "name": "stdout",
     "output_type": "stream",
     "text": [
      "CSV created!!!\n"
     ]
    }
   ],
   "source": [
    "row = ['Name', 'Price', 'Image URL','Rating']\n",
    "file_object = open('amazone_mobiles_under_20000_csv.csv', 'a', encoding='utf-8', newline=\"\")\n",
    "writer = csv.DictWriter(file_object, fieldnames=row)\n",
    "if file_object.tell() == 0:\n",
    "    writer.writeheader()\n",
    "header = {\"User-Agent\": 'Mozilla/5.0 (Windows NT 10.0; Win64; x64) AppleWebKit/537.36 (KHTML, like Gecko) Chrome/86.0.4240.198 Safari/537.36'}\n",
    "url = 'https://www.amazon.in/s?k=mobile+phones+under+Rs.+20%2C000&rh=p_36%3A-2000000&qid=1610348454&rnid=1318502031&ref=sr_nr_p_36_5'\n",
    "\n",
    "for i in range(15):\n",
    "    page = requests.get(url+\"&page=\"+str(i+1), headers=header)\n",
    "    soup = BeautifulSoup(page.text,'html.parser')\n",
    "    div = soup.find_all(\"div\", {\"class\": \"s-include-content-margin s-border-bottom s-latency-cf-section\"})\n",
    "    for x, i in enumerate(div):\n",
    "        img_div = i.find(\"div\", {\"class\": \"a-section aok-relative s-image-fixed-height\"})\n",
    "        img = img_div.find(\"img\")\n",
    "        name = \"\"\n",
    "        for j in img.get(\"alt\"):\n",
    "            if j is not \")\": name += j\n",
    "            else: \n",
    "                name += \")\"\n",
    "                break\n",
    "        try: price = str(i.find(\"span\", {\"class\": \"a-offscreen\"}).text).replace(\"₹\",\"Rs. \")\n",
    "        except: price = \"Currently Unavailable\"\n",
    "        try: \n",
    "            rate_div = str(i.find(\"div\", {\"class\": [\"a-row a-size-small\", \"aria-label\"]}).text).split(\"\\n\")\n",
    "            rate = \"\".join(i for i in rate_div if \"out of\" in i)\n",
    "        except: \n",
    "            rate = \"Currently Unavailable\"\n",
    "        writer.writerow({'Name': name, 'Price': price,'Image URL': img.get('src'), 'Rating': rate})\n",
    "file_object.close()\n",
    "print(\"CSV created!!!\")"
   ]
  },
  {
   "cell_type": "markdown",
   "metadata": {},
   "source": [
    "### Q8. Write a python program to extract information about the local weather from the National Weather Service website of USA, https://www.weather.gov/ for the city, San Francisco. You need to extract data about 7 day extended forecast display for the city. The data should include period, short description, temperature and description."
   ]
  },
  {
   "cell_type": "code",
   "execution_count": 967,
   "metadata": {},
   "outputs": [],
   "source": [
    "driver.get(\"https://forecast.weather.gov/MapClick.php?lat=37.777120000000025&lon=-122.41963999999996\")"
   ]
  },
  {
   "cell_type": "code",
   "execution_count": 973,
   "metadata": {},
   "outputs": [
    {
     "data": {
      "text/plain": [
       "['Overnight',\n",
       " 'Tuesday',\n",
       " 'Tuesday Night',\n",
       " 'Wednesday',\n",
       " 'Wednesday Night',\n",
       " 'Thursday',\n",
       " 'Thursday Night']"
      ]
     },
     "execution_count": 973,
     "metadata": {},
     "output_type": "execute_result"
    }
   ],
   "source": [
    "Period=[]\n",
    "period=driver.find_elements_by_xpath(\"//div[@class='tombstone-container']/p[1]\")\n",
    "for i in period:\n",
    "    period=i.text.replace(\"\\n\",\" \")\n",
    "    Period.append(period) \n",
    "Period[0:7]"
   ]
  },
  {
   "cell_type": "code",
   "execution_count": 974,
   "metadata": {},
   "outputs": [
    {
     "data": {
      "text/plain": [
       "['Mostly Cloudy',\n",
       " 'Patchy Fog then Mostly Cloudy',\n",
       " 'Mostly Cloudy',\n",
       " 'Mostly Cloudy',\n",
       " 'Partly Cloudy then Patchy Fog',\n",
       " 'Patchy Fog then Sunny',\n",
       " 'Partly Cloudy']"
      ]
     },
     "execution_count": 974,
     "metadata": {},
     "output_type": "execute_result"
    }
   ],
   "source": [
    "Short_description=[]\n",
    "short_description=driver.find_elements_by_xpath(\"//div[@class='tombstone-container']/p[3]\")\n",
    "for i in short_description:\n",
    "    short_description=i.text.replace(\"\\n\",\" \")\n",
    "    Short_description.append(short_description) \n",
    "Short_description[0:7]"
   ]
  },
  {
   "cell_type": "code",
   "execution_count": 975,
   "metadata": {},
   "outputs": [
    {
     "data": {
      "text/plain": [
       "['Low: 48 °F',\n",
       " 'High: 59 °F',\n",
       " 'Low: 51 °F',\n",
       " 'High: 62 °F',\n",
       " 'Low: 50 °F',\n",
       " 'High: 63 °F',\n",
       " 'Low: 48 °F']"
      ]
     },
     "execution_count": 975,
     "metadata": {},
     "output_type": "execute_result"
    }
   ],
   "source": [
    "Temp=[]\n",
    "temp=driver.find_elements_by_xpath(\"//div[@class='tombstone-container']/p[4]\")\n",
    "for i in temp:\n",
    "    temp=i.text.replace(\"\\n\",\" \")\n",
    "    Temp.append(temp) \n",
    "Temp[0:7]"
   ]
  },
  {
   "cell_type": "code",
   "execution_count": 976,
   "metadata": {},
   "outputs": [
    {
     "data": {
      "text/plain": [
       "['Mostly cloudy, with a low around 48. Light north northwest wind.',\n",
       " 'Mostly cloudy, with a low around 51. Calm wind becoming west around 5 mph.',\n",
       " 'Patchy fog after 2am. Otherwise, partly cloudy, with a low around 50. Calm wind.',\n",
       " 'Partly cloudy, with a low around 48.',\n",
       " 'Partly cloudy, with a low around 49.',\n",
       " 'Partly cloudy, with a low around 48.',\n",
       " 'Mostly clear, with a low around 49.']"
      ]
     },
     "execution_count": 976,
     "metadata": {},
     "output_type": "execute_result"
    }
   ],
   "source": [
    "Desc=[]\n",
    "desc=driver.find_elements_by_xpath(\"//div[@class='row row-odd row-forecast']/div[2]\")\n",
    "for i in desc:\n",
    "    desc=i.text.replace(\"\\n\",\" \")\n",
    "    Desc.append(desc) \n",
    "Desc[0:7]"
   ]
  },
  {
   "cell_type": "code",
   "execution_count": 977,
   "metadata": {},
   "outputs": [
    {
     "name": "stdout",
     "output_type": "stream",
     "text": [
      "9 9 9 7\n"
     ]
    }
   ],
   "source": [
    "print(len(Period),len(Short_description),len(Temp),len(Desc))"
   ]
  },
  {
   "cell_type": "code",
   "execution_count": 979,
   "metadata": {},
   "outputs": [],
   "source": [
    "import pandas as pd\n",
    "weather=pd.DataFrame({})\n",
    "weather[\"Period\"]=Period[:7]\n",
    "weather[\"Short_Description\"]=Short_description[:7]\n",
    "weather[\"Temperature\"]=Temp[:7]\n",
    "weather[\"Description\"]=Desc"
   ]
  },
  {
   "cell_type": "code",
   "execution_count": 980,
   "metadata": {},
   "outputs": [
    {
     "data": {
      "text/html": [
       "<div>\n",
       "<style scoped>\n",
       "    .dataframe tbody tr th:only-of-type {\n",
       "        vertical-align: middle;\n",
       "    }\n",
       "\n",
       "    .dataframe tbody tr th {\n",
       "        vertical-align: top;\n",
       "    }\n",
       "\n",
       "    .dataframe thead th {\n",
       "        text-align: right;\n",
       "    }\n",
       "</style>\n",
       "<table border=\"1\" class=\"dataframe\">\n",
       "  <thead>\n",
       "    <tr style=\"text-align: right;\">\n",
       "      <th></th>\n",
       "      <th>Period</th>\n",
       "      <th>Short_Description</th>\n",
       "      <th>Temperature</th>\n",
       "      <th>Description</th>\n",
       "    </tr>\n",
       "  </thead>\n",
       "  <tbody>\n",
       "    <tr>\n",
       "      <th>0</th>\n",
       "      <td>Overnight</td>\n",
       "      <td>Mostly Cloudy</td>\n",
       "      <td>Low: 48 °F</td>\n",
       "      <td>Mostly cloudy, with a low around 48. Light nor...</td>\n",
       "    </tr>\n",
       "    <tr>\n",
       "      <th>1</th>\n",
       "      <td>Tuesday</td>\n",
       "      <td>Patchy Fog then Mostly Cloudy</td>\n",
       "      <td>High: 59 °F</td>\n",
       "      <td>Mostly cloudy, with a low around 51. Calm wind...</td>\n",
       "    </tr>\n",
       "    <tr>\n",
       "      <th>2</th>\n",
       "      <td>Tuesday Night</td>\n",
       "      <td>Mostly Cloudy</td>\n",
       "      <td>Low: 51 °F</td>\n",
       "      <td>Patchy fog after 2am. Otherwise, partly cloudy...</td>\n",
       "    </tr>\n",
       "    <tr>\n",
       "      <th>3</th>\n",
       "      <td>Wednesday</td>\n",
       "      <td>Mostly Cloudy</td>\n",
       "      <td>High: 62 °F</td>\n",
       "      <td>Partly cloudy, with a low around 48.</td>\n",
       "    </tr>\n",
       "    <tr>\n",
       "      <th>4</th>\n",
       "      <td>Wednesday Night</td>\n",
       "      <td>Partly Cloudy then Patchy Fog</td>\n",
       "      <td>Low: 50 °F</td>\n",
       "      <td>Partly cloudy, with a low around 49.</td>\n",
       "    </tr>\n",
       "    <tr>\n",
       "      <th>5</th>\n",
       "      <td>Thursday</td>\n",
       "      <td>Patchy Fog then Sunny</td>\n",
       "      <td>High: 63 °F</td>\n",
       "      <td>Partly cloudy, with a low around 48.</td>\n",
       "    </tr>\n",
       "    <tr>\n",
       "      <th>6</th>\n",
       "      <td>Thursday Night</td>\n",
       "      <td>Partly Cloudy</td>\n",
       "      <td>Low: 48 °F</td>\n",
       "      <td>Mostly clear, with a low around 49.</td>\n",
       "    </tr>\n",
       "  </tbody>\n",
       "</table>\n",
       "</div>"
      ],
      "text/plain": [
       "            Period              Short_Description  Temperature  \\\n",
       "0        Overnight                  Mostly Cloudy   Low: 48 °F   \n",
       "1          Tuesday  Patchy Fog then Mostly Cloudy  High: 59 °F   \n",
       "2    Tuesday Night                  Mostly Cloudy   Low: 51 °F   \n",
       "3        Wednesday                  Mostly Cloudy  High: 62 °F   \n",
       "4  Wednesday Night  Partly Cloudy then Patchy Fog   Low: 50 °F   \n",
       "5         Thursday          Patchy Fog then Sunny  High: 63 °F   \n",
       "6   Thursday Night                  Partly Cloudy   Low: 48 °F   \n",
       "\n",
       "                                         Description  \n",
       "0  Mostly cloudy, with a low around 48. Light nor...  \n",
       "1  Mostly cloudy, with a low around 51. Calm wind...  \n",
       "2  Patchy fog after 2am. Otherwise, partly cloudy...  \n",
       "3               Partly cloudy, with a low around 48.  \n",
       "4               Partly cloudy, with a low around 49.  \n",
       "5               Partly cloudy, with a low around 48.  \n",
       "6                Mostly clear, with a low around 49.  "
      ]
     },
     "execution_count": 980,
     "metadata": {},
     "output_type": "execute_result"
    }
   ],
   "source": [
    "weather"
   ]
  },
  {
   "cell_type": "code",
   "execution_count": 981,
   "metadata": {},
   "outputs": [],
   "source": [
    "df_forecast=weather\n",
    "df_forecast.to_csv('C:/Users/home/Desktop/Internship Projects/fliprobo/San Francisco weather.csv',index = False)"
   ]
  },
  {
   "cell_type": "markdown",
   "metadata": {},
   "source": [
    "### Q9. Write a python program to scrape ‘software developer’ job listings from ‘Monster.com’. It should include all the jobs listed for the next 5 pages."
   ]
  },
  {
   "cell_type": "code",
   "execution_count": 38,
   "metadata": {},
   "outputs": [
    {
     "name": "stdout",
     "output_type": "stream",
     "text": [
      "CSV created!!\n"
     ]
    }
   ],
   "source": [
    "url_sd = 'https://www.monsterindia.com/srp/results?query=software%20developer&searchId=c2162b05-d9cf-45bb-af10-2b48822bf910'\n",
    "\n",
    "jobs=[]\n",
    "title_jobs= []\n",
    "company =[]\n",
    "locations =[]\n",
    "experience = []\n",
    "days_posted = []\n",
    "\n",
    "#Jobs for the next 5 pages.    \n",
    "for j in range(5):\n",
    "    driver.get(url_sd)\n",
    "    time.sleep(3)\n",
    "    x = driver.find_elements_by_xpath(\"//div[@class='job-tittle']\")\n",
    "    job_titles = [str(i.text).split(\"\\n\")[:][0] for i in x]\n",
    "    company_names = [str(i.text).split(\"\\n\")[:][1] for i in x]\n",
    "    location_list = [str(i.text).split(\"\\n\")[:][2] for i in x]\n",
    "    experience_list = [str(i.text).split(\"\\n\")[:][3] for i in x]\n",
    "    \n",
    "    t = driver.find_elements_by_xpath(\"//div[@class='card-footer apply-footer no-bdr']\")\n",
    "    posted_days=[str(i.text).rstrip(\"\\nAPPLY\").split(\" |\")[:][0] for i in t]\n",
    "    \n",
    "    title_jobs.extend(job_titles)\n",
    "    company.extend(company_names)\n",
    "    locations.extend(location_list)\n",
    "    experience.extend(experience_list)\n",
    "    days_posted.extend(posted_days)\n",
    "        \n",
    "driver.quit()\n",
    "    \n",
    "jobs = pd.DataFrame({})\n",
    "jobs['Title']=title_jobs\n",
    "jobs['Company']=company\n",
    "jobs['Location']=locations\n",
    "jobs['Experience']=experience\n",
    "jobs['Posted days']=days_posted\n",
    "\n",
    "import csv\n",
    "row = ['Title', 'Company', 'Location','Experience','Posted days']\n",
    "file_object = open('monster_softwaredeveloper_csv.csv', 'a', encoding='utf-8', newline=\"\")\n",
    "writer = csv.DictWriter(file_object, fieldnames=row)\n",
    "if file_object.tell() == 0:\n",
    "    writer.writeheader()\n",
    "for g, h in enumerate(title_jobs):\n",
    "    writer.writerow({'Title': h, 'Company': company[g], 'Location': locations[g], 'Experience': experience[g],\n",
    "                     'Posted days': days_posted[g]})\n",
    "file_object.close()\n",
    "print(\"CSV created!!\")"
   ]
  },
  {
   "cell_type": "markdown",
   "metadata": {},
   "source": [
    "### Q10. Write a python program to scrape ‘data scientist’ job listings for location ‘New Delhi’ from ‘Monster.com’. It should include all the jobs listed for the next 5 pages."
   ]
  },
  {
   "cell_type": "code",
   "execution_count": 35,
   "metadata": {},
   "outputs": [
    {
     "name": "stdout",
     "output_type": "stream",
     "text": [
      "CSV created!!\n"
     ]
    }
   ],
   "source": [
    "url_ds = 'https://www.monsterindia.com/srp/results?query=Data%20scientist&locations=New%20Delhi&searchId=8aee36dd-68e5-4fcb-91e0-9f444f7f3433'\n",
    "\n",
    "jobs=[]\n",
    "title_jobs= []\n",
    "company =[]\n",
    "locations =[]\n",
    "experience = []\n",
    "days_posted = []\n",
    "\n",
    "#Jobs for the next 5 pages.\n",
    "for j in range(5):\n",
    "    driver.get(url_ds)\n",
    "    time.sleep(3)\n",
    "    x = driver.find_elements_by_xpath(\"//div[@class='job-tittle']\")\n",
    "    job_titles = [str(i.text).split(\"\\n\")[:][0] for i in x]\n",
    "    company_names = [str(i.text).split(\"\\n\")[:][1] for i in x]\n",
    "    location_list = [str(i.text).split(\"\\n\")[:][2] for i in x]\n",
    "    experience_list = [str(i.text).split(\"\\n\")[:][3] for i in x]\n",
    "    \n",
    "    t = driver.find_elements_by_xpath(\"//div[@class='card-footer apply-footer no-bdr']\")\n",
    "    posted_days=[str(i.text).rstrip(\"\\nAPPLY\").split(\" |\")[:][0] for i in t]\n",
    "    \n",
    "    title_jobs.extend(job_titles)\n",
    "    company.extend(company_names)\n",
    "    locations.extend(location_list)\n",
    "    experience.extend(experience_list)\n",
    "    days_posted.extend(posted_days)\n",
    "        \n",
    "driver.quit()\n",
    "    \n",
    "jobs = pd.DataFrame({})\n",
    "jobs['Title']=title_jobs\n",
    "jobs['Company']=company\n",
    "jobs['Location']=locations\n",
    "jobs['Experience']=experience\n",
    "jobs['Posted days']=days_posted\n",
    "\n",
    "import csv\n",
    "row = ['Title', 'Company', 'Location','Experience','Posted days']\n",
    "file_object = open('monster_datascientist_csv.csv', 'a', encoding='utf-8', newline=\"\")\n",
    "writer = csv.DictWriter(file_object, fieldnames=row)\n",
    "if file_object.tell() == 0:\n",
    "    writer.writeheader()\n",
    "for g, h in enumerate(title_jobs):\n",
    "    writer.writerow({'Title': h, 'Company': company[g], 'Location': locations[g], 'Experience': experience[g],\n",
    "                     'Posted days': days_posted[g]})\n",
    "file_object.close()\n",
    "print(\"CSV created!!\")"
   ]
  }
 ],
 "metadata": {
  "kernelspec": {
   "display_name": "Python 3",
   "language": "python",
   "name": "python3"
  },
  "language_info": {
   "codemirror_mode": {
    "name": "ipython",
    "version": 3
   },
   "file_extension": ".py",
   "mimetype": "text/x-python",
   "name": "python",
   "nbconvert_exporter": "python",
   "pygments_lexer": "ipython3",
   "version": "3.8.3"
  }
 },
 "nbformat": 4,
 "nbformat_minor": 4
}
